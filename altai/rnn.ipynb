{
 "cells": [
  {
   "cell_type": "markdown",
   "metadata": {},
   "source": [
    "# Recurrent Neural Networks\n",
    "\n",
    "Neural networks are another powerful way of learning functions.\n",
    "\n",
    "Recurrent neural networks (RNNs) are particularly useful for applications involve _sequences_ of data. Data that comes in meaningful sequences, like natural language (a sequence of words), typically means that the context of any data point (i.e. the history that leads up to it) is just as relevant as the data point itself. The neural network must have some kind of \"memory\"; this is what RNNs essentially do (though their memory is very short-term).\n",
    "\n",
    "So we can use RNNs to learn something like a language model, which can in some sense learn the style of a particular author and riff off of an input sequence of words (e.g. a sentence) in that style. There are examples abound here, such as generated texts in the style of [Finnegan's Wake](https://www.countbayesie.com/blog/2015/5/24/writing-finnegans-wake-with-a-recurrent-neural-net), endless new episode scripts for [Full House](http://fullest.house/), and algorithimically-composed [sheet music](https://medium.com/dbrs-innovation-labs/in-his-novel-galatea-2-2-e9d11c9b7c2a#.xd00cremz).\n",
    "\n",
    "So pretty much anything that can be thought of as a sequence can be handled by an RNN. Ultimately we are still just learning a function that describes the dynamics in whatever sequence we're looking at, it's just more complex."
   ]
  },
  {
   "cell_type": "code",
   "execution_count": 3,
   "metadata": {
    "collapsed": true
   },
   "outputs": [],
   "source": [
    "import numpy as np\n",
    "import pandas as pd"
   ]
  },
  {
   "cell_type": "code",
   "execution_count": 26,
   "metadata": {
    "collapsed": false
   },
   "outputs": [],
   "source": [
    "df_ = pd.read_csv('events.csv')"
   ]
  },
  {
   "cell_type": "code",
   "execution_count": 3,
   "metadata": {
    "collapsed": false
   },
   "outputs": [
    {
     "data": {
      "text/html": [
       "<div>\n",
       "<table border=\"1\" class=\"dataframe\">\n",
       "  <thead>\n",
       "    <tr style=\"text-align: right;\">\n",
       "      <th></th>\n",
       "      <th>Event ID</th>\n",
       "      <th>Event Date</th>\n",
       "      <th>Source Name</th>\n",
       "      <th>Source Sectors</th>\n",
       "      <th>Source Country</th>\n",
       "      <th>Event Text</th>\n",
       "      <th>CAMEO Code</th>\n",
       "      <th>Intensity</th>\n",
       "      <th>Target Name</th>\n",
       "      <th>Target Sectors</th>\n",
       "      <th>Target Country</th>\n",
       "      <th>Story ID</th>\n",
       "      <th>Sentence Number</th>\n",
       "      <th>Publisher</th>\n",
       "      <th>City</th>\n",
       "      <th>District</th>\n",
       "      <th>Province</th>\n",
       "      <th>Country</th>\n",
       "      <th>Latitude</th>\n",
       "      <th>Longitude</th>\n",
       "    </tr>\n",
       "  </thead>\n",
       "  <tbody>\n",
       "    <tr>\n",
       "      <th>0</th>\n",
       "      <td>20718170</td>\n",
       "      <td>2014-01-01</td>\n",
       "      <td>Police (Australia)</td>\n",
       "      <td>Police,Government</td>\n",
       "      <td>Australia</td>\n",
       "      <td>Arrest, detain, or charge with legal action</td>\n",
       "      <td>173</td>\n",
       "      <td>-5</td>\n",
       "      <td>Men (Australia)</td>\n",
       "      <td>Social,General Population / Civilian / Social</td>\n",
       "      <td>Australia</td>\n",
       "      <td>32493690</td>\n",
       "      <td>2</td>\n",
       "      <td>Daily Telegraph</td>\n",
       "      <td>Surfers Paradise</td>\n",
       "      <td>Gold Coast</td>\n",
       "      <td>State of Queensland</td>\n",
       "      <td>Australia</td>\n",
       "      <td>-28.00270</td>\n",
       "      <td>153.4300</td>\n",
       "    </tr>\n",
       "    <tr>\n",
       "      <th>1</th>\n",
       "      <td>20718171</td>\n",
       "      <td>2014-01-01</td>\n",
       "      <td>Police (Australia)</td>\n",
       "      <td>Police,Government</td>\n",
       "      <td>Australia</td>\n",
       "      <td>Arrest, detain, or charge with legal action</td>\n",
       "      <td>173</td>\n",
       "      <td>-5</td>\n",
       "      <td>Children (Australia)</td>\n",
       "      <td>Social,General Population / Civilian / Social</td>\n",
       "      <td>Australia</td>\n",
       "      <td>32493693</td>\n",
       "      <td>1</td>\n",
       "      <td>Daily Telegraph</td>\n",
       "      <td>Maroubra</td>\n",
       "      <td>Randwick</td>\n",
       "      <td>State of New South Wales</td>\n",
       "      <td>Australia</td>\n",
       "      <td>-33.95000</td>\n",
       "      <td>151.2330</td>\n",
       "    </tr>\n",
       "    <tr>\n",
       "      <th>2</th>\n",
       "      <td>20718172</td>\n",
       "      <td>2014-01-01</td>\n",
       "      <td>Government Official (Democratic Republic of Co...</td>\n",
       "      <td>Government</td>\n",
       "      <td>Democratic Republic of Congo</td>\n",
       "      <td>Make statement</td>\n",
       "      <td>10</td>\n",
       "      <td>0</td>\n",
       "      <td>Attacker (Democratic Republic of Congo)</td>\n",
       "      <td>Criminals / Gangs,Dissident</td>\n",
       "      <td>Democratic Republic of Congo</td>\n",
       "      <td>32495112</td>\n",
       "      <td>3</td>\n",
       "      <td>The Australian</td>\n",
       "      <td>Kinshasa</td>\n",
       "      <td>NaN</td>\n",
       "      <td>Kinshasa City</td>\n",
       "      <td>Democratic Republic of Congo</td>\n",
       "      <td>-4.32142</td>\n",
       "      <td>15.3081</td>\n",
       "    </tr>\n",
       "    <tr>\n",
       "      <th>3</th>\n",
       "      <td>20718174</td>\n",
       "      <td>2014-01-01</td>\n",
       "      <td>Military (South Sudan)</td>\n",
       "      <td>Military,Government</td>\n",
       "      <td>South Sudan</td>\n",
       "      <td>Use conventional military force</td>\n",
       "      <td>190</td>\n",
       "      <td>-10</td>\n",
       "      <td>Armed Rebel (South Sudan)</td>\n",
       "      <td>Rebel,Dissident</td>\n",
       "      <td>South Sudan</td>\n",
       "      <td>32495113</td>\n",
       "      <td>1</td>\n",
       "      <td>The Australian</td>\n",
       "      <td>Juba</td>\n",
       "      <td>NaN</td>\n",
       "      <td>Central Equatoria State</td>\n",
       "      <td>South Sudan</td>\n",
       "      <td>4.85165</td>\n",
       "      <td>31.5825</td>\n",
       "    </tr>\n",
       "    <tr>\n",
       "      <th>4</th>\n",
       "      <td>20718173</td>\n",
       "      <td>2014-01-01</td>\n",
       "      <td>Armed Rebel (South Sudan)</td>\n",
       "      <td>Rebel,Dissident</td>\n",
       "      <td>South Sudan</td>\n",
       "      <td>Use unconventional violence</td>\n",
       "      <td>180</td>\n",
       "      <td>-9</td>\n",
       "      <td>Military (South Sudan)</td>\n",
       "      <td>Military,Government</td>\n",
       "      <td>South Sudan</td>\n",
       "      <td>32495113</td>\n",
       "      <td>1</td>\n",
       "      <td>The Australian</td>\n",
       "      <td>Juba</td>\n",
       "      <td>NaN</td>\n",
       "      <td>Central Equatoria State</td>\n",
       "      <td>South Sudan</td>\n",
       "      <td>4.85165</td>\n",
       "      <td>31.5825</td>\n",
       "    </tr>\n",
       "  </tbody>\n",
       "</table>\n",
       "</div>"
      ],
      "text/plain": [
       "   Event ID  Event Date                                        Source Name  \\\n",
       "0  20718170  2014-01-01                                 Police (Australia)   \n",
       "1  20718171  2014-01-01                                 Police (Australia)   \n",
       "2  20718172  2014-01-01  Government Official (Democratic Republic of Co...   \n",
       "3  20718174  2014-01-01                             Military (South Sudan)   \n",
       "4  20718173  2014-01-01                          Armed Rebel (South Sudan)   \n",
       "\n",
       "        Source Sectors                Source Country  \\\n",
       "0    Police,Government                     Australia   \n",
       "1    Police,Government                     Australia   \n",
       "2           Government  Democratic Republic of Congo   \n",
       "3  Military,Government                   South Sudan   \n",
       "4      Rebel,Dissident                   South Sudan   \n",
       "\n",
       "                                    Event Text  CAMEO Code  Intensity  \\\n",
       "0  Arrest, detain, or charge with legal action         173         -5   \n",
       "1  Arrest, detain, or charge with legal action         173         -5   \n",
       "2                               Make statement          10          0   \n",
       "3              Use conventional military force         190        -10   \n",
       "4                  Use unconventional violence         180         -9   \n",
       "\n",
       "                               Target Name  \\\n",
       "0                          Men (Australia)   \n",
       "1                     Children (Australia)   \n",
       "2  Attacker (Democratic Republic of Congo)   \n",
       "3                Armed Rebel (South Sudan)   \n",
       "4                   Military (South Sudan)   \n",
       "\n",
       "                                  Target Sectors  \\\n",
       "0  Social,General Population / Civilian / Social   \n",
       "1  Social,General Population / Civilian / Social   \n",
       "2                    Criminals / Gangs,Dissident   \n",
       "3                                Rebel,Dissident   \n",
       "4                            Military,Government   \n",
       "\n",
       "                 Target Country  Story ID  Sentence Number        Publisher  \\\n",
       "0                     Australia  32493690                2  Daily Telegraph   \n",
       "1                     Australia  32493693                1  Daily Telegraph   \n",
       "2  Democratic Republic of Congo  32495112                3   The Australian   \n",
       "3                   South Sudan  32495113                1   The Australian   \n",
       "4                   South Sudan  32495113                1   The Australian   \n",
       "\n",
       "               City    District                  Province  \\\n",
       "0  Surfers Paradise  Gold Coast       State of Queensland   \n",
       "1          Maroubra    Randwick  State of New South Wales   \n",
       "2          Kinshasa         NaN             Kinshasa City   \n",
       "3              Juba         NaN   Central Equatoria State   \n",
       "4              Juba         NaN   Central Equatoria State   \n",
       "\n",
       "                        Country  Latitude  Longitude  \n",
       "0                     Australia -28.00270   153.4300  \n",
       "1                     Australia -33.95000   151.2330  \n",
       "2  Democratic Republic of Congo  -4.32142    15.3081  \n",
       "3                   South Sudan   4.85165    31.5825  \n",
       "4                   South Sudan   4.85165    31.5825  "
      ]
     },
     "execution_count": 3,
     "metadata": {},
     "output_type": "execute_result"
    }
   ],
   "source": [
    "df_.head()"
   ]
  },
  {
   "cell_type": "code",
   "execution_count": 27,
   "metadata": {
    "collapsed": false
   },
   "outputs": [
    {
     "data": {
      "text/plain": [
       "120000"
      ]
     },
     "execution_count": 27,
     "metadata": {},
     "output_type": "execute_result"
    }
   ],
   "source": [
    "len(df_)"
   ]
  },
  {
   "cell_type": "code",
   "execution_count": 5,
   "metadata": {
    "collapsed": false
   },
   "outputs": [
    {
     "data": {
      "text/html": [
       "<div>\n",
       "<table border=\"1\" class=\"dataframe\">\n",
       "  <thead>\n",
       "    <tr style=\"text-align: right;\">\n",
       "      <th></th>\n",
       "      <th>Source Name</th>\n",
       "      <th>Source Country</th>\n",
       "      <th>Event Text</th>\n",
       "      <th>Target Name</th>\n",
       "      <th>Target Country</th>\n",
       "    </tr>\n",
       "  </thead>\n",
       "  <tbody>\n",
       "    <tr>\n",
       "      <th>0</th>\n",
       "      <td>Police</td>\n",
       "      <td>Australia</td>\n",
       "      <td>Arrest, detain, or charge with legal action</td>\n",
       "      <td>Men</td>\n",
       "      <td>Australia</td>\n",
       "    </tr>\n",
       "    <tr>\n",
       "      <th>1</th>\n",
       "      <td>Police</td>\n",
       "      <td>Australia</td>\n",
       "      <td>Arrest, detain, or charge with legal action</td>\n",
       "      <td>Children</td>\n",
       "      <td>Australia</td>\n",
       "    </tr>\n",
       "    <tr>\n",
       "      <th>2</th>\n",
       "      <td>Government Official</td>\n",
       "      <td>Democratic Republic of Congo</td>\n",
       "      <td>Make statement</td>\n",
       "      <td>Attacker</td>\n",
       "      <td>Democratic Republic of Congo</td>\n",
       "    </tr>\n",
       "    <tr>\n",
       "      <th>3</th>\n",
       "      <td>Military</td>\n",
       "      <td>South Sudan</td>\n",
       "      <td>Use conventional military force</td>\n",
       "      <td>Armed Rebel</td>\n",
       "      <td>South Sudan</td>\n",
       "    </tr>\n",
       "    <tr>\n",
       "      <th>4</th>\n",
       "      <td>Armed Rebel</td>\n",
       "      <td>South Sudan</td>\n",
       "      <td>Use unconventional violence</td>\n",
       "      <td>Military</td>\n",
       "      <td>South Sudan</td>\n",
       "    </tr>\n",
       "  </tbody>\n",
       "</table>\n",
       "</div>"
      ],
      "text/plain": [
       "           Source Name                Source Country  \\\n",
       "0               Police                     Australia   \n",
       "1               Police                     Australia   \n",
       "2  Government Official  Democratic Republic of Congo   \n",
       "3             Military                   South Sudan   \n",
       "4          Armed Rebel                   South Sudan   \n",
       "\n",
       "                                    Event Text  Target Name  \\\n",
       "0  Arrest, detain, or charge with legal action          Men   \n",
       "1  Arrest, detain, or charge with legal action     Children   \n",
       "2                               Make statement     Attacker   \n",
       "3              Use conventional military force  Armed Rebel   \n",
       "4                  Use unconventional violence     Military   \n",
       "\n",
       "                 Target Country  \n",
       "0                     Australia  \n",
       "1                     Australia  \n",
       "2  Democratic Republic of Congo  \n",
       "3                   South Sudan  \n",
       "4                   South Sudan  "
      ]
     },
     "execution_count": 5,
     "metadata": {},
     "output_type": "execute_result"
    }
   ],
   "source": [
    "# Source and Target Sectors are kind of redundant with Source and Target Names\n",
    "cols = ['Source Name', 'Source Country', 'Event Text', 'Target Name', 'Target Country']\n",
    "df = df_.loc[:, cols]\n",
    "\n",
    "# the category label space is massive, this reduces it\n",
    "df['Source Name'].replace(to_replace='\\s\\(.+', value='', inplace=True, regex=True)\n",
    "df['Target Name'].replace(to_replace='\\s\\(.+', value='', inplace=True, regex=True) \n",
    "\n",
    "# NaN values are when source/target don't have a country\n",
    "# df[df.isnull().any(axis=1)]\n",
    "df.fillna('NONE', inplace=True)\n",
    "\n",
    "df.head()"
   ]
  },
  {
   "cell_type": "code",
   "execution_count": 6,
   "metadata": {
    "collapsed": false
   },
   "outputs": [],
   "source": [
    "cat_map = {}\n",
    "for col in cols:\n",
    "    cat = df.loc[:,col].astype('category')\n",
    "    cat_map[col] = cat.cat.categories\n",
    "    df.loc[:,col] = cat.cat.codes"
   ]
  },
  {
   "cell_type": "code",
   "execution_count": 7,
   "metadata": {
    "collapsed": false
   },
   "outputs": [
    {
     "data": {
      "text/plain": [
       "'Australia'"
      ]
     },
     "execution_count": 7,
     "metadata": {},
     "output_type": "execute_result"
    }
   ],
   "source": [
    "cat_map['Source Country'][df['Source Country'][0]]"
   ]
  },
  {
   "cell_type": "code",
   "execution_count": 10,
   "metadata": {
    "collapsed": false,
    "scrolled": true
   },
   "outputs": [
    {
     "ename": "NameError",
     "evalue": "name 'df' is not defined",
     "output_type": "error",
     "traceback": [
      "\u001b[1;31m---------------------------------------------------------------------------\u001b[0m",
      "\u001b[1;31mNameError\u001b[0m                                 Traceback (most recent call last)",
      "\u001b[1;32m<ipython-input-10-f623436e4968>\u001b[0m in \u001b[0;36m<module>\u001b[1;34m()\u001b[0m\n\u001b[1;32m----> 1\u001b[1;33m \u001b[0mn_samples\u001b[0m \u001b[1;33m=\u001b[0m \u001b[0mlen\u001b[0m\u001b[1;33m(\u001b[0m\u001b[0mdf\u001b[0m\u001b[1;33m)\u001b[0m\u001b[1;33m\u001b[0m\u001b[0m\n\u001b[0m\u001b[0;32m      2\u001b[0m \u001b[0mdata\u001b[0m \u001b[1;33m=\u001b[0m \u001b[0mdf\u001b[0m\u001b[1;33m.\u001b[0m\u001b[0mas_matrix\u001b[0m\u001b[1;33m(\u001b[0m\u001b[1;33m)\u001b[0m\u001b[1;33m\u001b[0m\u001b[0m\n\u001b[0;32m      3\u001b[0m \u001b[0mdata\u001b[0m\u001b[1;33m\u001b[0m\u001b[0m\n",
      "\u001b[1;31mNameError\u001b[0m: name 'df' is not defined"
     ]
    }
   ],
   "source": [
    "n_samples = len(df)\n",
    "data = df.as_matrix()\n",
    "data"
   ]
  },
  {
   "cell_type": "code",
   "execution_count": 9,
   "metadata": {
    "collapsed": false
   },
   "outputs": [
    {
     "data": {
      "text/plain": [
       "(119999, 5)"
      ]
     },
     "execution_count": 9,
     "metadata": {},
     "output_type": "execute_result"
    }
   ],
   "source": [
    "Y = data[1:]\n",
    "Y.shape"
   ]
  },
  {
   "cell_type": "code",
   "execution_count": 10,
   "metadata": {
    "collapsed": false
   },
   "outputs": [
    {
     "data": {
      "text/plain": [
       "(119999, 5)"
      ]
     },
     "execution_count": 10,
     "metadata": {},
     "output_type": "execute_result"
    }
   ],
   "source": [
    "data = data[:-1]\n",
    "data.shape"
   ]
  },
  {
   "cell_type": "code",
   "execution_count": 11,
   "metadata": {
    "collapsed": false
   },
   "outputs": [
    {
     "data": {
      "text/plain": [
       "11132"
      ]
     },
     "execution_count": 11,
     "metadata": {},
     "output_type": "execute_result"
    }
   ],
   "source": [
    "vocab_size = np.max(data) + 1\n",
    "vocab_size"
   ]
  },
  {
   "cell_type": "code",
   "execution_count": 12,
   "metadata": {
    "collapsed": false
   },
   "outputs": [
    {
     "name": "stdout",
     "output_type": "stream",
     "text": [
      "13.35828868\n"
     ]
    }
   ],
   "source": [
    "# check how many GB of memory will be needed\n",
    "# using int16\n",
    "print(Y.shape[0] * Y.shape[1] * (Y.max() + 1) * 16 * 1.25e-10)\n",
    "\n",
    "y_onehot = np.zeros((Y.shape[0], Y.shape[1], Y.max() + 1))\n",
    "layer_idx = np.arange(Y.shape[0]).reshape(Y.shape[0], 1)\n",
    "component_idx = np.tile(np.arange(Y.shape[1]), (Y.shape[0], 1))\n",
    "y_onehot[layer_idx, component_idx, Y] = 1"
   ]
  },
  {
   "cell_type": "code",
   "execution_count": 13,
   "metadata": {
    "collapsed": false
   },
   "outputs": [
    {
     "name": "stdout",
     "output_type": "stream",
     "text": [
      "Train on 113999 samples, validate on 6000 samples\n",
      "Epoch 1/100\n",
      "113999/113999 [==============================] - 92s - loss: 5.7559 - acc: 0.0742 - val_loss: 5.1997 - val_acc: 0.1028\n",
      "Epoch 2/100\n",
      "113999/113999 [==============================] - 86s - loss: 5.1029 - acc: 0.1126 - val_loss: 4.9846 - val_acc: 0.1141\n",
      "Epoch 3/100\n",
      "113999/113999 [==============================] - 85s - loss: 4.9439 - acc: 0.1238 - val_loss: 4.8367 - val_acc: 0.1219\n",
      "Epoch 4/100\n",
      "113999/113999 [==============================] - 85s - loss: 4.8147 - acc: 0.1372 - val_loss: 4.6941 - val_acc: 0.1475\n",
      "Epoch 5/100\n",
      "113999/113999 [==============================] - 86s - loss: 4.6821 - acc: 0.1561 - val_loss: 4.5677 - val_acc: 0.1680\n",
      "Epoch 6/100\n",
      "113999/113999 [==============================] - 85s - loss: 4.5602 - acc: 0.1729 - val_loss: 4.4449 - val_acc: 0.1956\n",
      "Epoch 7/100\n",
      "113999/113999 [==============================] - 84s - loss: 4.4480 - acc: 0.1897 - val_loss: 4.3503 - val_acc: 0.2107\n",
      "Epoch 8/100\n",
      "113999/113999 [==============================] - 85s - loss: 4.3460 - acc: 0.2072 - val_loss: 4.2612 - val_acc: 0.2205\n",
      "Epoch 9/100\n",
      "113999/113999 [==============================] - 85s - loss: 4.2549 - acc: 0.2236 - val_loss: 4.1926 - val_acc: 0.2316\n",
      "Epoch 10/100\n",
      "113999/113999 [==============================] - 84s - loss: 4.1797 - acc: 0.2367 - val_loss: 4.1273 - val_acc: 0.2440\n",
      "Epoch 11/100\n",
      "113999/113999 [==============================] - 83s - loss: 4.1175 - acc: 0.2472 - val_loss: 4.0911 - val_acc: 0.2523\n",
      "Epoch 12/100\n",
      "113999/113999 [==============================] - 83s - loss: 4.0664 - acc: 0.2550 - val_loss: 4.0544 - val_acc: 0.2639\n",
      "Epoch 13/100\n",
      "113999/113999 [==============================] - 83s - loss: 4.0251 - acc: 0.2617 - val_loss: 4.0323 - val_acc: 0.2681\n",
      "Epoch 14/100\n",
      "113999/113999 [==============================] - 83s - loss: 3.9903 - acc: 0.2666 - val_loss: 4.0198 - val_acc: 0.2706\n",
      "Epoch 15/100\n",
      "113999/113999 [==============================] - 83s - loss: 3.9602 - acc: 0.2704 - val_loss: 3.9997 - val_acc: 0.2755\n",
      "Epoch 16/100\n",
      "113999/113999 [==============================] - 83s - loss: 3.9341 - acc: 0.2739 - val_loss: 3.9871 - val_acc: 0.2771\n",
      "Epoch 17/100\n",
      "113999/113999 [==============================] - 83s - loss: 3.9094 - acc: 0.2766 - val_loss: 3.9812 - val_acc: 0.2797\n",
      "Epoch 18/100\n",
      "113999/113999 [==============================] - 83s - loss: 3.8881 - acc: 0.2792 - val_loss: 3.9687 - val_acc: 0.2819\n",
      "Epoch 19/100\n",
      "113999/113999 [==============================] - 83s - loss: 3.8709 - acc: 0.2819 - val_loss: 3.9606 - val_acc: 0.2834\n",
      "Epoch 20/100\n",
      "113999/113999 [==============================] - 83s - loss: 3.8558 - acc: 0.2837 - val_loss: 3.9592 - val_acc: 0.2851\n",
      "Epoch 21/100\n",
      "113999/113999 [==============================] - 83s - loss: 3.8395 - acc: 0.2851 - val_loss: 3.9541 - val_acc: 0.2844\n",
      "Epoch 22/100\n",
      "113999/113999 [==============================] - 83s - loss: 3.8273 - acc: 0.2866 - val_loss: 3.9431 - val_acc: 0.2864\n",
      "Epoch 23/100\n",
      "113999/113999 [==============================] - 83s - loss: 3.8131 - acc: 0.2883 - val_loss: 3.9483 - val_acc: 0.2866\n",
      "Epoch 24/100\n",
      "113999/113999 [==============================] - 83s - loss: 3.8022 - acc: 0.2891 - val_loss: 3.9394 - val_acc: 0.2874\n",
      "Epoch 25/100\n",
      "113999/113999 [==============================] - 83s - loss: 3.7899 - acc: 0.2909 - val_loss: 3.9363 - val_acc: 0.2879\n",
      "Epoch 26/100\n",
      "113999/113999 [==============================] - 83s - loss: 3.7798 - acc: 0.2922 - val_loss: 3.9381 - val_acc: 0.2883\n",
      "Epoch 27/100\n",
      "113999/113999 [==============================] - 83s - loss: 3.7689 - acc: 0.2931 - val_loss: 3.9324 - val_acc: 0.2895\n",
      "Epoch 28/100\n",
      "113999/113999 [==============================] - 83s - loss: 3.7619 - acc: 0.2938 - val_loss: 3.9295 - val_acc: 0.2905\n",
      "Epoch 29/100\n",
      "113999/113999 [==============================] - 83s - loss: 3.7531 - acc: 0.2948 - val_loss: 3.9307 - val_acc: 0.2904\n",
      "Epoch 30/100\n",
      "113999/113999 [==============================] - 83s - loss: 3.7454 - acc: 0.2952 - val_loss: 3.9308 - val_acc: 0.2926\n",
      "Epoch 31/100\n",
      "113999/113999 [==============================] - 83s - loss: 3.7358 - acc: 0.2957 - val_loss: 3.9225 - val_acc: 0.2921\n",
      "Epoch 32/100\n",
      "113999/113999 [==============================] - 83s - loss: 3.7303 - acc: 0.2972 - val_loss: 3.9259 - val_acc: 0.2930\n",
      "Epoch 33/100\n",
      "113999/113999 [==============================] - 83s - loss: 3.7227 - acc: 0.2973 - val_loss: 3.9230 - val_acc: 0.2932\n",
      "Epoch 34/100\n",
      "113999/113999 [==============================] - 83s - loss: 3.7163 - acc: 0.2980 - val_loss: 3.9210 - val_acc: 0.2937\n",
      "Epoch 35/100\n",
      "113999/113999 [==============================] - 83s - loss: 3.7103 - acc: 0.2986 - val_loss: 3.9190 - val_acc: 0.2927\n",
      "Epoch 36/100\n",
      "113999/113999 [==============================] - 83s - loss: 3.7046 - acc: 0.2994 - val_loss: 3.9210 - val_acc: 0.2934\n",
      "Epoch 37/100\n",
      "113999/113999 [==============================] - 83s - loss: 3.6981 - acc: 0.3001 - val_loss: 3.9243 - val_acc: 0.2935\n",
      "Epoch 38/100\n",
      "113999/113999 [==============================] - 83s - loss: 3.6930 - acc: 0.3005 - val_loss: 3.9216 - val_acc: 0.2954\n",
      "Epoch 39/100\n",
      "113999/113999 [==============================] - 83s - loss: 3.6894 - acc: 0.3011 - val_loss: 3.9188 - val_acc: 0.2923\n",
      "Epoch 40/100\n",
      "113999/113999 [==============================] - 83s - loss: 3.6838 - acc: 0.3013 - val_loss: 3.9189 - val_acc: 0.2953\n",
      "Epoch 41/100\n",
      "113999/113999 [==============================] - 83s - loss: 3.6796 - acc: 0.3016 - val_loss: 3.9200 - val_acc: 0.2944\n",
      "Epoch 42/100\n",
      "113999/113999 [==============================] - 83s - loss: 3.6733 - acc: 0.3024 - val_loss: 3.9209 - val_acc: 0.2945\n",
      "Epoch 43/100\n",
      "113999/113999 [==============================] - 83s - loss: 3.6693 - acc: 0.3026 - val_loss: 3.9170 - val_acc: 0.2952\n",
      "Epoch 44/100\n",
      "113999/113999 [==============================] - 83s - loss: 3.6659 - acc: 0.3032 - val_loss: 3.9202 - val_acc: 0.2937\n",
      "Epoch 45/100\n",
      "113999/113999 [==============================] - 83s - loss: 3.6619 - acc: 0.3038 - val_loss: 3.9184 - val_acc: 0.2946\n",
      "Epoch 46/100\n",
      "113999/113999 [==============================] - 83s - loss: 3.6576 - acc: 0.3038 - val_loss: 3.9235 - val_acc: 0.2947\n",
      "Epoch 47/100\n",
      "113999/113999 [==============================] - 83s - loss: 3.6537 - acc: 0.3047 - val_loss: 3.9224 - val_acc: 0.2954\n",
      "Epoch 48/100\n",
      "113999/113999 [==============================] - 83s - loss: 3.6505 - acc: 0.3041 - val_loss: 3.9192 - val_acc: 0.2965\n",
      "Epoch 49/100\n",
      "113999/113999 [==============================] - 83s - loss: 3.6481 - acc: 0.3049 - val_loss: 3.9221 - val_acc: 0.2941\n",
      "Epoch 50/100\n",
      "113999/113999 [==============================] - 83s - loss: 3.6434 - acc: 0.3054 - val_loss: 3.9277 - val_acc: 0.2937\n",
      "Epoch 51/100\n",
      "113999/113999 [==============================] - 83s - loss: 3.6404 - acc: 0.3051 - val_loss: 3.9206 - val_acc: 0.2948\n",
      "Epoch 52/100\n",
      "113999/113999 [==============================] - 83s - loss: 3.6368 - acc: 0.3059 - val_loss: 3.9155 - val_acc: 0.2978\n",
      "Epoch 53/100\n",
      "113999/113999 [==============================] - 83s - loss: 3.6350 - acc: 0.3058 - val_loss: 3.9175 - val_acc: 0.2964\n",
      "Epoch 54/100\n",
      "113999/113999 [==============================] - 83s - loss: 3.6290 - acc: 0.3064 - val_loss: 3.9193 - val_acc: 0.2959\n",
      "Epoch 55/100\n",
      "113999/113999 [==============================] - 83s - loss: 3.6269 - acc: 0.3066 - val_loss: 3.9157 - val_acc: 0.2933\n",
      "Epoch 56/100\n",
      "113999/113999 [==============================] - 83s - loss: 3.6254 - acc: 0.3064 - val_loss: 3.9200 - val_acc: 0.2960\n",
      "Epoch 57/100\n",
      "113999/113999 [==============================] - 83s - loss: 3.6214 - acc: 0.3071 - val_loss: 3.9207 - val_acc: 0.2955\n",
      "Epoch 58/100\n",
      "113999/113999 [==============================] - 83s - loss: 3.6177 - acc: 0.3077 - val_loss: 3.9159 - val_acc: 0.2956\n",
      "Epoch 59/100\n",
      "113999/113999 [==============================] - 83s - loss: 3.6169 - acc: 0.3077 - val_loss: 3.9208 - val_acc: 0.2974\n",
      "Epoch 60/100\n",
      "113999/113999 [==============================] - 83s - loss: 3.6139 - acc: 0.3078 - val_loss: 3.9199 - val_acc: 0.2983\n",
      "Epoch 61/100\n",
      "113999/113999 [==============================] - 83s - loss: 3.6119 - acc: 0.3078 - val_loss: 3.9195 - val_acc: 0.2954\n",
      "Epoch 62/100\n",
      "113999/113999 [==============================] - 83s - loss: 3.6098 - acc: 0.3087 - val_loss: 3.9238 - val_acc: 0.2954\n",
      "Epoch 63/100\n",
      "113999/113999 [==============================] - 83s - loss: 3.6056 - acc: 0.3089 - val_loss: 3.9297 - val_acc: 0.2964\n",
      "Epoch 64/100\n",
      "113999/113999 [==============================] - 83s - loss: 3.6043 - acc: 0.3085 - val_loss: 3.9217 - val_acc: 0.2966\n",
      "Epoch 65/100\n",
      "113999/113999 [==============================] - 83s - loss: 3.6018 - acc: 0.3091 - val_loss: 3.9282 - val_acc: 0.2953\n",
      "Epoch 66/100\n",
      "113999/113999 [==============================] - 83s - loss: 3.6005 - acc: 0.3093 - val_loss: 3.9204 - val_acc: 0.2963\n",
      "Epoch 67/100\n",
      "113999/113999 [==============================] - 83s - loss: 3.5970 - acc: 0.3096 - val_loss: 3.9218 - val_acc: 0.2953\n",
      "Epoch 68/100\n",
      "113999/113999 [==============================] - 83s - loss: 3.5948 - acc: 0.3095 - val_loss: 3.9221 - val_acc: 0.2963\n",
      "Epoch 69/100\n",
      "113999/113999 [==============================] - 83s - loss: 3.5931 - acc: 0.3098 - val_loss: 3.9245 - val_acc: 0.2972\n",
      "Epoch 70/100\n",
      "113999/113999 [==============================] - 83s - loss: 3.5920 - acc: 0.3101 - val_loss: 3.9211 - val_acc: 0.2964\n",
      "Epoch 71/100\n",
      "113999/113999 [==============================] - 83s - loss: 3.5894 - acc: 0.3101 - val_loss: 3.9246 - val_acc: 0.2964\n",
      "Epoch 72/100\n",
      "113999/113999 [==============================] - 83s - loss: 3.5872 - acc: 0.3102 - val_loss: 3.9231 - val_acc: 0.2963\n",
      "Epoch 73/100\n",
      "113999/113999 [==============================] - 83s - loss: 3.5870 - acc: 0.3100 - val_loss: 3.9189 - val_acc: 0.2961\n",
      "Epoch 74/100\n",
      "113999/113999 [==============================] - 83s - loss: 3.5843 - acc: 0.3104 - val_loss: 3.9187 - val_acc: 0.2970\n",
      "Epoch 75/100\n",
      "113999/113999 [==============================] - 83s - loss: 3.5827 - acc: 0.3106 - val_loss: 3.9237 - val_acc: 0.2967\n",
      "Epoch 76/100\n",
      "113999/113999 [==============================] - 83s - loss: 3.5800 - acc: 0.3112 - val_loss: 3.9240 - val_acc: 0.2960\n",
      "Epoch 77/100\n",
      "113999/113999 [==============================] - 83s - loss: 3.5784 - acc: 0.3111 - val_loss: 3.9296 - val_acc: 0.2959\n",
      "Epoch 78/100\n",
      "113999/113999 [==============================] - 83s - loss: 3.5771 - acc: 0.3111 - val_loss: 3.9251 - val_acc: 0.2959\n",
      "Epoch 79/100\n",
      "113999/113999 [==============================] - 83s - loss: 3.5742 - acc: 0.3115 - val_loss: 3.9235 - val_acc: 0.2971\n",
      "Epoch 80/100\n",
      "113999/113999 [==============================] - 83s - loss: 3.5737 - acc: 0.3113 - val_loss: 3.9287 - val_acc: 0.2972\n",
      "Epoch 81/100\n",
      "113999/113999 [==============================] - 83s - loss: 3.5726 - acc: 0.3119 - val_loss: 3.9271 - val_acc: 0.2977\n",
      "Epoch 82/100\n",
      "113999/113999 [==============================] - 83s - loss: 3.5704 - acc: 0.3120 - val_loss: 3.9265 - val_acc: 0.2965\n",
      "Epoch 83/100\n",
      "113999/113999 [==============================] - 83s - loss: 3.5692 - acc: 0.3117 - val_loss: 3.9211 - val_acc: 0.2976\n",
      "Epoch 84/100\n",
      "113999/113999 [==============================] - 83s - loss: 3.5666 - acc: 0.3120 - val_loss: 3.9204 - val_acc: 0.2985\n",
      "Epoch 85/100\n",
      "113999/113999 [==============================] - 83s - loss: 3.5645 - acc: 0.3121 - val_loss: 3.9278 - val_acc: 0.2976\n",
      "Epoch 86/100\n",
      "113999/113999 [==============================] - 83s - loss: 3.5634 - acc: 0.3125 - val_loss: 3.9251 - val_acc: 0.2983\n",
      "Epoch 87/100\n",
      "113999/113999 [==============================] - 83s - loss: 3.5624 - acc: 0.3129 - val_loss: 3.9250 - val_acc: 0.2979\n",
      "Epoch 88/100\n",
      "113999/113999 [==============================] - 83s - loss: 3.5610 - acc: 0.3123 - val_loss: 3.9280 - val_acc: 0.2986\n",
      "Epoch 89/100\n",
      "113999/113999 [==============================] - 83s - loss: 3.5596 - acc: 0.3128 - val_loss: 3.9290 - val_acc: 0.2972\n",
      "Epoch 90/100\n",
      "113999/113999 [==============================] - 83s - loss: 3.5600 - acc: 0.3125 - val_loss: 3.9270 - val_acc: 0.2982\n",
      "Epoch 91/100\n",
      "113999/113999 [==============================] - 83s - loss: 3.5563 - acc: 0.3133 - val_loss: 3.9297 - val_acc: 0.2967\n",
      "Epoch 92/100\n",
      "113999/113999 [==============================] - 83s - loss: 3.5559 - acc: 0.3131 - val_loss: 3.9264 - val_acc: 0.2970\n",
      "Epoch 93/100\n",
      "113999/113999 [==============================] - 83s - loss: 3.5551 - acc: 0.3129 - val_loss: 3.9289 - val_acc: 0.2971\n",
      "Epoch 94/100\n",
      "113999/113999 [==============================] - 83s - loss: 3.5528 - acc: 0.3135 - val_loss: 3.9286 - val_acc: 0.2974\n",
      "Epoch 95/100\n",
      "113999/113999 [==============================] - 83s - loss: 3.5522 - acc: 0.3134 - val_loss: 3.9271 - val_acc: 0.2976\n",
      "Epoch 96/100\n",
      "113999/113999 [==============================] - 83s - loss: 3.5495 - acc: 0.3136 - val_loss: 3.9299 - val_acc: 0.2989\n",
      "Epoch 97/100\n",
      "113999/113999 [==============================] - 83s - loss: 3.5506 - acc: 0.3132 - val_loss: 3.9290 - val_acc: 0.2995\n",
      "Epoch 98/100\n",
      "113999/113999 [==============================] - 83s - loss: 3.5484 - acc: 0.3136 - val_loss: 3.9269 - val_acc: 0.2974\n",
      "Epoch 99/100\n",
      "113999/113999 [==============================] - 83s - loss: 3.5456 - acc: 0.3141 - val_loss: 3.9263 - val_acc: 0.2983\n",
      "Epoch 100/100\n",
      "113999/113999 [==============================] - 83s - loss: 3.5463 - acc: 0.3141 - val_loss: 3.9357 - val_acc: 0.2979\n"
     ]
    },
    {
     "name": "stderr",
     "output_type": "stream",
     "text": [
      "Using TensorFlow backend.\n"
     ]
    },
    {
     "data": {
      "text/plain": [
       "<keras.callbacks.History at 0x7f44157cdd68>"
      ]
     },
     "execution_count": 13,
     "metadata": {},
     "output_type": "execute_result"
    }
   ],
   "source": [
    "from keras.layers.embeddings import Embedding\n",
    "from keras.layers.core import Dropout, Dense\n",
    "from keras.layers.recurrent import LSTM\n",
    "from keras.models import Sequential\n",
    "from keras.layers.wrappers import TimeDistributed\n",
    "\n",
    "embed_size = 100\n",
    "batch_size = 128\n",
    "epochs = 100\n",
    "\n",
    "model = Sequential()\n",
    "model.add(Embedding(vocab_size, embed_size, input_length=data.shape[1]))\n",
    "model.add(Dropout(0.3))\n",
    "model.add(LSTM(embed_size, return_sequences=True))\n",
    "model.add(Dropout(0.3))\n",
    "model.add(LSTM(embed_size, return_sequences=True))\n",
    "model.add(Dropout(0.3))\n",
    "model.add(TimeDistributed(Dense(vocab_size, activation='softmax')))\n",
    "\n",
    "model.compile(optimizer='adam',\n",
    "              loss='categorical_crossentropy',\n",
    "              metrics=['accuracy'])\n",
    "\n",
    "model.fit(data, y_onehot, batch_size=batch_size, nb_epoch=epochs, validation_split=0.05)"
   ]
  },
  {
   "cell_type": "code",
   "execution_count": 14,
   "metadata": {
    "collapsed": false
   },
   "outputs": [
    {
     "name": "stdout",
     "output_type": "stream",
     "text": [
      "[WARNING] icews_weights.h5 already exists - overwrite? [y/n]y\n",
      "[TIP] Next time specify overwrite=True in save_weights!\n"
     ]
    }
   ],
   "source": [
    "model.save_weights('icews_weights.h5', overwrite=True)"
   ]
  },
  {
   "cell_type": "code",
   "execution_count": 15,
   "metadata": {
    "collapsed": true
   },
   "outputs": [],
   "source": [
    "def render(arr):\n",
    "    parts = []\n",
    "    for idx, col in enumerate(cols):\n",
    "        parts.append(cat_map[col][int(arr[idx])])\n",
    "    return parts"
   ]
  },
  {
   "cell_type": "code",
   "execution_count": 39,
   "metadata": {
    "collapsed": false
   },
   "outputs": [],
   "source": [
    "def ramble(seed, n):\n",
    "    rambling = [seed]\n",
    "    for _ in range(n):\n",
    "        probs = model.predict(seed.T)[0]\n",
    "        seed = []\n",
    "        # random draw based on probs\n",
    "        cs = np.cumsum(probs, axis=1)\n",
    "        for row in cs:          \n",
    "            idx = row.searchsorted(np.random.random() * row[-1], 'right')\n",
    "            seed.append(idx)\n",
    "        rambling.append(render(seed))\n",
    "        seed = np.array(seed).reshape(5,1)\n",
    "    return rambling"
   ]
  },
  {
   "cell_type": "code",
   "execution_count": 44,
   "metadata": {
    "collapsed": false
   },
   "outputs": [
    {
     "name": "stdout",
     "output_type": "stream",
     "text": [
      "Citizen (Turkey) -> Protest violently, riot -> Argentina (Italy)\n",
      "Communist Party of India (Turkey) -> Refuse to release persons or property -> Activist (Indonesia)\n",
      "High Ranking Military Personnel (NONE) -> Make statement -> Militant (Switzerland)\n",
      "Domestic Affairs (South Korea) -> Accuse -> Indonesia (Turkey)\n",
      "Media (South Korea) -> Appeal for judicial cooperation -> Japan (India)\n",
      "Protester (United Kingdom) -> Consult -> Men (United States)\n",
      "Citizen (Australia) -> Consult -> Protester (Thailand)\n",
      "Barack Obama (Thailand) -> Consult -> Men (South Korea)\n",
      "Barack Obama (United States) -> Consult -> Unspecified Actor (United States)\n",
      "Barack Obama (France) -> Cooperate economically -> Lakhdar Brahimi (Saudi Arabia)\n"
     ]
    }
   ],
   "source": [
    "seed = np.random.randint(0, 20, (5,1))\n",
    "for source_name, source_country, event_text, target_name, target_country in ramble(seed, 10):\n",
    "    print('{} ({}) -> {} -> {} ({})'.format(source_name, source_country, event_text, target_name, target_country))"
   ]
  },
  {
   "cell_type": "code",
   "execution_count": null,
   "metadata": {
    "collapsed": true
   },
   "outputs": [],
   "source": []
  }
 ],
 "metadata": {
  "kernelspec": {
   "display_name": "Python 3",
   "language": "python",
   "name": "python3"
  },
  "language_info": {
   "codemirror_mode": {
    "name": "ipython",
    "version": 3
   },
   "file_extension": ".py",
   "mimetype": "text/x-python",
   "name": "python",
   "nbconvert_exporter": "python",
   "pygments_lexer": "ipython3",
   "version": "3.4.3"
  }
 },
 "nbformat": 4,
 "nbformat_minor": 0
}
