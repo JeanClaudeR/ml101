{
 "cells": [
  {
   "cell_type": "code",
   "execution_count": null,
   "metadata": {
    "collapsed": true
   },
   "outputs": [],
   "source": [
    "%matplotlib inline\n",
    "%config InlineBackend.figure_formats=['svg']\n",
    "\n",
    "import pandas as pd\n",
    "import matplotlib.pyplot as plt\n",
    "import seaborn as sns\n",
    "from lib import make_line\n",
    "\n",
    "palette = ['#386DF9', '#FFDC52', '#FF1614', '#62F591', '#AA22FF', '#34495E']\n",
    "sns.set(font_scale=1.1, style='darkgrid', palette=palette, context='notebook')"
   ]
  },
  {
   "cell_type": "code",
   "execution_count": null,
   "metadata": {
    "collapsed": false
   },
   "outputs": [],
   "source": [
    "df = pd.read_csv('../data/classification_nonlinear.csv')\n",
    "df.head()"
   ]
  },
  {
   "cell_type": "code",
   "execution_count": null,
   "metadata": {
    "collapsed": false
   },
   "outputs": [],
   "source": [
    "sns.lmplot('Age', 'Friends', data=df, fit_reg=False, hue='Recommended')"
   ]
  },
  {
   "cell_type": "code",
   "execution_count": null,
   "metadata": {
    "collapsed": false
   },
   "outputs": [],
   "source": [
    "from sklearn.linear_model import LogisticRegression\n",
    "from sklearn.cross_validation import train_test_split\n",
    "\n",
    "# (set random state for the purposes of demonstration)\n",
    "train, test = train_test_split(df, train_size=0.7, random_state=1000)\n",
    "X_train = train[['Age', 'Friends']]\n",
    "y_train = train['Recommended']\n",
    "\n",
    "X_test = test[['Age', 'Friends']]\n",
    "y_test = test['Recommended']\n",
    "\n",
    "model = LogisticRegression()\n",
    "model.fit(X_train, y_train)"
   ]
  },
  {
   "cell_type": "code",
   "execution_count": null,
   "metadata": {
    "collapsed": false
   },
   "outputs": [],
   "source": [
    "m = model.coef_[0]\n",
    "b = model.intercept_\n",
    "\n",
    "print('m', m)\n",
    "print('b', b)"
   ]
  },
  {
   "cell_type": "code",
   "execution_count": null,
   "metadata": {
    "collapsed": false
   },
   "outputs": [],
   "source": [
    "sns.lmplot('Age', 'Friends', data=df, fit_reg=False, hue='Recommended')\n",
    "\n",
    "# Solve for y = m_1x_1 + m_2x_2 + b, where y=0, so we can plot this in 2D\n",
    "def func(x):\n",
    "    return -(m[0]*x + b)/m[1]\n",
    "\n",
    "xs = np.linspace(-1, 2, 200)\n",
    "ys = func(xs)\n",
    "plt.plot(xs, ys, label='Decision boundary')\n",
    "plt.legend(loc=2)"
   ]
  },
  {
   "cell_type": "code",
   "execution_count": null,
   "metadata": {
    "collapsed": false
   },
   "outputs": [],
   "source": [
    "from sklearn import metrics\n",
    "y_pred = model.predict(X_test)\n",
    "metrics.roc_auc_score(y_pred, y_test)"
   ]
  },
  {
   "cell_type": "code",
   "execution_count": null,
   "metadata": {
    "collapsed": false
   },
   "outputs": [],
   "source": [
    "from keras.models import Sequential\n",
    "from keras.layers.core import Dense, Activation\n",
    "\n",
    "model = Sequential()\n",
    "model.add(Dense(64, input_dim=2, activation='relu'))\n",
    "model.add(Dense(1))\n",
    "model.add(Activation('sigmoid'))\n",
    "model.compile(loss='binary_crossentropy', optimizer='sgd')\n",
    "model.fit(X_train.values, y_train.values, batch_size=16, nb_epoch=500, verbose=0)"
   ]
  },
  {
   "cell_type": "code",
   "execution_count": null,
   "metadata": {
    "collapsed": false
   },
   "outputs": [],
   "source": [
    "# keras gives us probabilities\n",
    "y_prob = model.predict(X_test.values)\n",
    "\n",
    "# convert to labels\n",
    "y_pred = np.rint(y_prob)\n",
    "metrics.roc_auc_score(y_test, y_pred)"
   ]
  },
  {
   "cell_type": "code",
   "execution_count": null,
   "metadata": {
    "collapsed": false
   },
   "outputs": [],
   "source": [
    "sns.lmplot('Age', 'Friends', data=df, fit_reg=False, hue='Recommended')\n",
    "\n",
    "# some ugly stuff to see where the decision boundary is\n",
    "rng = np.arange(-2, 2.5, 0.01)\n",
    "xs, ys = np.meshgrid(rng, rng)\n",
    "Z = np.rint(model.predict(np.vstack([xs.ravel(), ys.ravel()]).T))\n",
    "Z = Z.reshape(xs.shape)\n",
    "plt.contourf(xs, ys, Z, levels=[0, 1], colors=(palette[1],palette[3],palette[1]), cmap=None, extend='both', alpha=0.3)"
   ]
  },
  {
   "cell_type": "code",
   "execution_count": null,
   "metadata": {
    "collapsed": true
   },
   "outputs": [],
   "source": []
  }
 ],
 "metadata": {
  "kernelspec": {
   "display_name": "Python 3",
   "language": "python",
   "name": "python3"
  },
  "language_info": {
   "codemirror_mode": {
    "name": "ipython",
    "version": 3
   },
   "file_extension": ".py",
   "mimetype": "text/x-python",
   "name": "python",
   "nbconvert_exporter": "python",
   "pygments_lexer": "ipython3",
   "version": "3.4.3"
  }
 },
 "nbformat": 4,
 "nbformat_minor": 0
}
