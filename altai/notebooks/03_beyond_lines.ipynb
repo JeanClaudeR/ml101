{
 "cells": [
  {
   "cell_type": "markdown",
   "metadata": {},
   "source": [
    "# finding nonlinear functions"
   ]
  },
  {
   "cell_type": "code",
   "execution_count": 1,
   "metadata": {
    "collapsed": false
   },
   "outputs": [],
   "source": [
    "%matplotlib inline\n",
    "%config InlineBackend.figure_formats=['svg']\n",
    "\n",
    "import pandas as pd\n",
    "import matplotlib.pyplot as plt\n",
    "import seaborn as sns\n",
    "from lib import make_line"
   ]
  },
  {
   "cell_type": "code",
   "execution_count": null,
   "metadata": {
    "collapsed": false
   },
   "outputs": [],
   "source": [
    "df = pd.read_csv('../data/seasonal.csv')\n",
    "df.head()"
   ]
  },
  {
   "cell_type": "code",
   "execution_count": null,
   "metadata": {
    "collapsed": false
   },
   "outputs": [],
   "source": [
    "sns.regplot(df['Time'], df['Sales'], fit_reg=False)"
   ]
  },
  {
   "cell_type": "code",
   "execution_count": null,
   "metadata": {
    "collapsed": false
   },
   "outputs": [],
   "source": [
    "# eh doesn't look so _linear_ but let's try anyways\n",
    "X = df[['Time']]\n",
    "y = df['Sales']\n",
    "\n",
    "model = LinearRegression()\n",
    "model.fit(X, y)\n",
    "m = model.coef_[0]\n",
    "b = model.intercept_\n",
    "\n",
    "print('m', m)\n",
    "print('b', b)"
   ]
  },
  {
   "cell_type": "code",
   "execution_count": null,
   "metadata": {
    "collapsed": false
   },
   "outputs": [],
   "source": [
    "# what does this line look like?\n",
    "sns.regplot(df['Time'], df['Sales'], fit_reg=False)\n",
    "xs, ys = make_line(m, b, to=12)\n",
    "plt.plot(xs, ys)\n",
    "plt.legend(['learned function', 'data'], loc=2)"
   ]
  },
  {
   "cell_type": "code",
   "execution_count": null,
   "metadata": {
    "collapsed": false
   },
   "outputs": [],
   "source": [
    "y_pred = model.predict(X)\n",
    "metrics.mean_squared_error(y_pred, y)"
   ]
  },
  {
   "cell_type": "code",
   "execution_count": null,
   "metadata": {
    "collapsed": false
   },
   "outputs": [],
   "source": [
    "# normalize to compare to error of previous example\n",
    "metrics.mean_squared_error(y_pred, y)/np.mean(y)"
   ]
  },
  {
   "cell_type": "markdown",
   "metadata": {
    "collapsed": true
   },
   "source": [
    "# what's a neural network?\n",
    "\n",
    "![](assets/nn.png)\n",
    "###### (from [neuralnetworksanddeeplearning.com](http://neuralnetworksanddeeplearning.com/))"
   ]
  },
  {
   "cell_type": "code",
   "execution_count": null,
   "metadata": {
    "collapsed": false
   },
   "outputs": [],
   "source": [
    "from keras.models import Sequential\n",
    "from keras.layers.core import Dense, Activation\n",
    "\n",
    "model = Sequential()\n",
    "model.add(Dense(32, input_shape=(1,)))\n",
    "model.add(Activation('sigmoid'))\n",
    "model.add(Dense(1))\n",
    "model.add(Activation('linear'))\n",
    "model.compile(loss='mse', optimizer='sgd')\n",
    "model.fit(X.values, y.values, batch_size=16, nb_epoch=2000, verbose=0)"
   ]
  },
  {
   "cell_type": "code",
   "execution_count": null,
   "metadata": {
    "collapsed": false
   },
   "outputs": [],
   "source": [
    "# what does this line look like?\n",
    "\n",
    "sns.regplot(df['Time'], df['Sales'], fit_reg=False)\n",
    "xs = np.linspace(0, 12, 500)\n",
    "y_pred = model.predict(xs)\n",
    "plt.plot(xs, y_pred)\n",
    "plt.legend(['learned function', 'data'], loc=2)\n",
    "metrics.mean_squared_error(y_pred, y)/np.mean(y)"
   ]
  },
  {
   "cell_type": "code",
   "execution_count": null,
   "metadata": {
    "collapsed": true
   },
   "outputs": [],
   "source": []
  }
 ],
 "metadata": {
  "kernelspec": {
   "display_name": "Python 3",
   "language": "python",
   "name": "python3"
  },
  "language_info": {
   "codemirror_mode": {
    "name": "ipython",
    "version": 3
   },
   "file_extension": ".py",
   "mimetype": "text/x-python",
   "name": "python",
   "nbconvert_exporter": "python",
   "pygments_lexer": "ipython3",
   "version": "3.4.3"
  }
 },
 "nbformat": 4,
 "nbformat_minor": 0
}
