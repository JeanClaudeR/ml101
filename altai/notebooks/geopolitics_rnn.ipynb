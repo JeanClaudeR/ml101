{
 "cells": [
  {
   "cell_type": "code",
   "execution_count": 1,
   "metadata": {
    "collapsed": true
   },
   "outputs": [],
   "source": [
    "import numpy as np\n",
    "import pandas as pd"
   ]
  },
  {
   "cell_type": "code",
   "execution_count": 2,
   "metadata": {
    "collapsed": false
   },
   "outputs": [],
   "source": [
    "df_ = pd.read_csv('../data/events.csv')"
   ]
  },
  {
   "cell_type": "code",
   "execution_count": 4,
   "metadata": {
    "collapsed": false
   },
   "outputs": [
    {
     "data": {
      "text/html": [
       "<div>\n",
       "<table border=\"1\" class=\"dataframe\">\n",
       "  <thead>\n",
       "    <tr style=\"text-align: right;\">\n",
       "      <th></th>\n",
       "      <th>Event ID</th>\n",
       "      <th>Event Date</th>\n",
       "      <th>Source Name</th>\n",
       "      <th>Source Sectors</th>\n",
       "      <th>Source Country</th>\n",
       "      <th>Event Text</th>\n",
       "      <th>CAMEO Code</th>\n",
       "      <th>Intensity</th>\n",
       "      <th>Target Name</th>\n",
       "      <th>Target Sectors</th>\n",
       "      <th>Target Country</th>\n",
       "      <th>Story ID</th>\n",
       "      <th>Sentence Number</th>\n",
       "      <th>Publisher</th>\n",
       "      <th>City</th>\n",
       "      <th>District</th>\n",
       "      <th>Province</th>\n",
       "      <th>Country</th>\n",
       "      <th>Latitude</th>\n",
       "      <th>Longitude</th>\n",
       "    </tr>\n",
       "  </thead>\n",
       "  <tbody>\n",
       "    <tr>\n",
       "      <th>0</th>\n",
       "      <td>20718170</td>\n",
       "      <td>2014-01-01</td>\n",
       "      <td>Police (Australia)</td>\n",
       "      <td>Police,Government</td>\n",
       "      <td>Australia</td>\n",
       "      <td>Arrest, detain, or charge with legal action</td>\n",
       "      <td>173</td>\n",
       "      <td>-5.0</td>\n",
       "      <td>Men (Australia)</td>\n",
       "      <td>Social,General Population / Civilian / Social</td>\n",
       "      <td>Australia</td>\n",
       "      <td>32493690</td>\n",
       "      <td>2</td>\n",
       "      <td>Daily Telegraph</td>\n",
       "      <td>Surfers Paradise</td>\n",
       "      <td>Gold Coast</td>\n",
       "      <td>State of Queensland</td>\n",
       "      <td>Australia</td>\n",
       "      <td>-28.00270</td>\n",
       "      <td>153.4300</td>\n",
       "    </tr>\n",
       "    <tr>\n",
       "      <th>1</th>\n",
       "      <td>20718171</td>\n",
       "      <td>2014-01-01</td>\n",
       "      <td>Police (Australia)</td>\n",
       "      <td>Police,Government</td>\n",
       "      <td>Australia</td>\n",
       "      <td>Arrest, detain, or charge with legal action</td>\n",
       "      <td>173</td>\n",
       "      <td>-5.0</td>\n",
       "      <td>Children (Australia)</td>\n",
       "      <td>Social,General Population / Civilian / Social</td>\n",
       "      <td>Australia</td>\n",
       "      <td>32493693</td>\n",
       "      <td>1</td>\n",
       "      <td>Daily Telegraph</td>\n",
       "      <td>Maroubra</td>\n",
       "      <td>Randwick</td>\n",
       "      <td>State of New South Wales</td>\n",
       "      <td>Australia</td>\n",
       "      <td>-33.95000</td>\n",
       "      <td>151.2330</td>\n",
       "    </tr>\n",
       "    <tr>\n",
       "      <th>2</th>\n",
       "      <td>20718172</td>\n",
       "      <td>2014-01-01</td>\n",
       "      <td>Government Official (Democratic Republic of Co...</td>\n",
       "      <td>Government</td>\n",
       "      <td>Democratic Republic of Congo</td>\n",
       "      <td>Make statement</td>\n",
       "      <td>10</td>\n",
       "      <td>0.0</td>\n",
       "      <td>Attacker (Democratic Republic of Congo)</td>\n",
       "      <td>Criminals / Gangs,Dissident</td>\n",
       "      <td>Democratic Republic of Congo</td>\n",
       "      <td>32495112</td>\n",
       "      <td>3</td>\n",
       "      <td>The Australian</td>\n",
       "      <td>Kinshasa</td>\n",
       "      <td>NaN</td>\n",
       "      <td>Kinshasa City</td>\n",
       "      <td>Democratic Republic of Congo</td>\n",
       "      <td>-4.32142</td>\n",
       "      <td>15.3081</td>\n",
       "    </tr>\n",
       "    <tr>\n",
       "      <th>3</th>\n",
       "      <td>20718174</td>\n",
       "      <td>2014-01-01</td>\n",
       "      <td>Military (South Sudan)</td>\n",
       "      <td>Military,Government</td>\n",
       "      <td>South Sudan</td>\n",
       "      <td>Use conventional military force</td>\n",
       "      <td>190</td>\n",
       "      <td>-10.0</td>\n",
       "      <td>Armed Rebel (South Sudan)</td>\n",
       "      <td>Rebel,Dissident</td>\n",
       "      <td>South Sudan</td>\n",
       "      <td>32495113</td>\n",
       "      <td>1</td>\n",
       "      <td>The Australian</td>\n",
       "      <td>Juba</td>\n",
       "      <td>NaN</td>\n",
       "      <td>Central Equatoria State</td>\n",
       "      <td>South Sudan</td>\n",
       "      <td>4.85165</td>\n",
       "      <td>31.5825</td>\n",
       "    </tr>\n",
       "    <tr>\n",
       "      <th>4</th>\n",
       "      <td>20718173</td>\n",
       "      <td>2014-01-01</td>\n",
       "      <td>Armed Rebel (South Sudan)</td>\n",
       "      <td>Rebel,Dissident</td>\n",
       "      <td>South Sudan</td>\n",
       "      <td>Use unconventional violence</td>\n",
       "      <td>180</td>\n",
       "      <td>-9.0</td>\n",
       "      <td>Military (South Sudan)</td>\n",
       "      <td>Military,Government</td>\n",
       "      <td>South Sudan</td>\n",
       "      <td>32495113</td>\n",
       "      <td>1</td>\n",
       "      <td>The Australian</td>\n",
       "      <td>Juba</td>\n",
       "      <td>NaN</td>\n",
       "      <td>Central Equatoria State</td>\n",
       "      <td>South Sudan</td>\n",
       "      <td>4.85165</td>\n",
       "      <td>31.5825</td>\n",
       "    </tr>\n",
       "  </tbody>\n",
       "</table>\n",
       "</div>"
      ],
      "text/plain": [
       "   Event ID  Event Date                                        Source Name  \\\n",
       "0  20718170  2014-01-01                                 Police (Australia)   \n",
       "1  20718171  2014-01-01                                 Police (Australia)   \n",
       "2  20718172  2014-01-01  Government Official (Democratic Republic of Co...   \n",
       "3  20718174  2014-01-01                             Military (South Sudan)   \n",
       "4  20718173  2014-01-01                          Armed Rebel (South Sudan)   \n",
       "\n",
       "        Source Sectors                Source Country  \\\n",
       "0    Police,Government                     Australia   \n",
       "1    Police,Government                     Australia   \n",
       "2           Government  Democratic Republic of Congo   \n",
       "3  Military,Government                   South Sudan   \n",
       "4      Rebel,Dissident                   South Sudan   \n",
       "\n",
       "                                    Event Text  CAMEO Code  Intensity  \\\n",
       "0  Arrest, detain, or charge with legal action         173       -5.0   \n",
       "1  Arrest, detain, or charge with legal action         173       -5.0   \n",
       "2                               Make statement          10        0.0   \n",
       "3              Use conventional military force         190      -10.0   \n",
       "4                  Use unconventional violence         180       -9.0   \n",
       "\n",
       "                               Target Name  \\\n",
       "0                          Men (Australia)   \n",
       "1                     Children (Australia)   \n",
       "2  Attacker (Democratic Republic of Congo)   \n",
       "3                Armed Rebel (South Sudan)   \n",
       "4                   Military (South Sudan)   \n",
       "\n",
       "                                  Target Sectors  \\\n",
       "0  Social,General Population / Civilian / Social   \n",
       "1  Social,General Population / Civilian / Social   \n",
       "2                    Criminals / Gangs,Dissident   \n",
       "3                                Rebel,Dissident   \n",
       "4                            Military,Government   \n",
       "\n",
       "                 Target Country  Story ID  Sentence Number        Publisher  \\\n",
       "0                     Australia  32493690                2  Daily Telegraph   \n",
       "1                     Australia  32493693                1  Daily Telegraph   \n",
       "2  Democratic Republic of Congo  32495112                3   The Australian   \n",
       "3                   South Sudan  32495113                1   The Australian   \n",
       "4                   South Sudan  32495113                1   The Australian   \n",
       "\n",
       "               City    District                  Province  \\\n",
       "0  Surfers Paradise  Gold Coast       State of Queensland   \n",
       "1          Maroubra    Randwick  State of New South Wales   \n",
       "2          Kinshasa         NaN             Kinshasa City   \n",
       "3              Juba         NaN   Central Equatoria State   \n",
       "4              Juba         NaN   Central Equatoria State   \n",
       "\n",
       "                        Country  Latitude  Longitude  \n",
       "0                     Australia -28.00270   153.4300  \n",
       "1                     Australia -33.95000   151.2330  \n",
       "2  Democratic Republic of Congo  -4.32142    15.3081  \n",
       "3                   South Sudan   4.85165    31.5825  \n",
       "4                   South Sudan   4.85165    31.5825  "
      ]
     },
     "execution_count": 4,
     "metadata": {},
     "output_type": "execute_result"
    }
   ],
   "source": [
    "df_.head()"
   ]
  },
  {
   "cell_type": "code",
   "execution_count": 5,
   "metadata": {
    "collapsed": false
   },
   "outputs": [
    {
     "data": {
      "text/plain": [
       "120000"
      ]
     },
     "execution_count": 5,
     "metadata": {},
     "output_type": "execute_result"
    }
   ],
   "source": [
    "len(df_)"
   ]
  },
  {
   "cell_type": "code",
   "execution_count": 6,
   "metadata": {
    "collapsed": false
   },
   "outputs": [
    {
     "data": {
      "text/html": [
       "<div>\n",
       "<table border=\"1\" class=\"dataframe\">\n",
       "  <thead>\n",
       "    <tr style=\"text-align: right;\">\n",
       "      <th></th>\n",
       "      <th>Source Name</th>\n",
       "      <th>Source Country</th>\n",
       "      <th>Event Text</th>\n",
       "      <th>Target Name</th>\n",
       "      <th>Target Country</th>\n",
       "    </tr>\n",
       "  </thead>\n",
       "  <tbody>\n",
       "    <tr>\n",
       "      <th>0</th>\n",
       "      <td>Police</td>\n",
       "      <td>Australia</td>\n",
       "      <td>Arrest, detain, or charge with legal action</td>\n",
       "      <td>Men</td>\n",
       "      <td>Australia</td>\n",
       "    </tr>\n",
       "    <tr>\n",
       "      <th>1</th>\n",
       "      <td>Police</td>\n",
       "      <td>Australia</td>\n",
       "      <td>Arrest, detain, or charge with legal action</td>\n",
       "      <td>Children</td>\n",
       "      <td>Australia</td>\n",
       "    </tr>\n",
       "    <tr>\n",
       "      <th>2</th>\n",
       "      <td>Government Official</td>\n",
       "      <td>Democratic Republic of Congo</td>\n",
       "      <td>Make statement</td>\n",
       "      <td>Attacker</td>\n",
       "      <td>Democratic Republic of Congo</td>\n",
       "    </tr>\n",
       "    <tr>\n",
       "      <th>3</th>\n",
       "      <td>Military</td>\n",
       "      <td>South Sudan</td>\n",
       "      <td>Use conventional military force</td>\n",
       "      <td>Armed Rebel</td>\n",
       "      <td>South Sudan</td>\n",
       "    </tr>\n",
       "    <tr>\n",
       "      <th>4</th>\n",
       "      <td>Armed Rebel</td>\n",
       "      <td>South Sudan</td>\n",
       "      <td>Use unconventional violence</td>\n",
       "      <td>Military</td>\n",
       "      <td>South Sudan</td>\n",
       "    </tr>\n",
       "  </tbody>\n",
       "</table>\n",
       "</div>"
      ],
      "text/plain": [
       "           Source Name                Source Country  \\\n",
       "0               Police                     Australia   \n",
       "1               Police                     Australia   \n",
       "2  Government Official  Democratic Republic of Congo   \n",
       "3             Military                   South Sudan   \n",
       "4          Armed Rebel                   South Sudan   \n",
       "\n",
       "                                    Event Text  Target Name  \\\n",
       "0  Arrest, detain, or charge with legal action          Men   \n",
       "1  Arrest, detain, or charge with legal action     Children   \n",
       "2                               Make statement     Attacker   \n",
       "3              Use conventional military force  Armed Rebel   \n",
       "4                  Use unconventional violence     Military   \n",
       "\n",
       "                 Target Country  \n",
       "0                     Australia  \n",
       "1                     Australia  \n",
       "2  Democratic Republic of Congo  \n",
       "3                   South Sudan  \n",
       "4                   South Sudan  "
      ]
     },
     "execution_count": 6,
     "metadata": {},
     "output_type": "execute_result"
    }
   ],
   "source": [
    "# Source and Target Sectors are kind of redundant with Source and Target Names\n",
    "cols = ['Source Name', 'Source Country', 'Event Text', 'Target Name', 'Target Country']\n",
    "df = df_.loc[:, cols]\n",
    "\n",
    "# the category label space is massive, this reduces it\n",
    "df['Source Name'].replace(to_replace='\\s\\(.+', value='', inplace=True, regex=True)\n",
    "df['Target Name'].replace(to_replace='\\s\\(.+', value='', inplace=True, regex=True) \n",
    "\n",
    "# NaN values are when source/target don't have a country\n",
    "# df[df.isnull().any(axis=1)]\n",
    "df.fillna('NONE', inplace=True)\n",
    "\n",
    "df.head()"
   ]
  },
  {
   "cell_type": "code",
   "execution_count": 7,
   "metadata": {
    "collapsed": false
   },
   "outputs": [],
   "source": [
    "cat_map = {}\n",
    "for col in cols:\n",
    "    cat = df.loc[:,col].astype('category')\n",
    "    cat_map[col] = cat.cat.categories\n",
    "    df.loc[:,col] = cat.cat.codes"
   ]
  },
  {
   "cell_type": "code",
   "execution_count": 8,
   "metadata": {
    "collapsed": false
   },
   "outputs": [
    {
     "data": {
      "text/plain": [
       "'Australia'"
      ]
     },
     "execution_count": 8,
     "metadata": {},
     "output_type": "execute_result"
    }
   ],
   "source": [
    "cat_map['Source Country'][df['Source Country'][0]]"
   ]
  },
  {
   "cell_type": "code",
   "execution_count": 9,
   "metadata": {
    "collapsed": false,
    "scrolled": true
   },
   "outputs": [
    {
     "data": {
      "text/plain": [
       "array([[3589,    9,   39, 2278,    8],\n",
       "       [3589,    9,   39,  688,    8],\n",
       "       [1634,   49,  160,  428,   49],\n",
       "       ..., \n",
       "       [1389,  204,  156, 3705,  203],\n",
       "       [3646,  201,  170, 2879,  203],\n",
       "       [3589,  201,  225, 2930,  203]], dtype=int16)"
      ]
     },
     "execution_count": 9,
     "metadata": {},
     "output_type": "execute_result"
    }
   ],
   "source": [
    "n_samples = len(df)\n",
    "data = df.as_matrix()\n",
    "data"
   ]
  },
  {
   "cell_type": "code",
   "execution_count": 10,
   "metadata": {
    "collapsed": false
   },
   "outputs": [
    {
     "data": {
      "text/plain": [
       "(119999, 5)"
      ]
     },
     "execution_count": 10,
     "metadata": {},
     "output_type": "execute_result"
    }
   ],
   "source": [
    "Y = data[1:]\n",
    "Y.shape"
   ]
  },
  {
   "cell_type": "code",
   "execution_count": 11,
   "metadata": {
    "collapsed": false
   },
   "outputs": [
    {
     "data": {
      "text/plain": [
       "(119999, 5)"
      ]
     },
     "execution_count": 11,
     "metadata": {},
     "output_type": "execute_result"
    }
   ],
   "source": [
    "data = data[:-1]\n",
    "data.shape"
   ]
  },
  {
   "cell_type": "code",
   "execution_count": 12,
   "metadata": {
    "collapsed": false
   },
   "outputs": [
    {
     "data": {
      "text/plain": [
       "4887"
      ]
     },
     "execution_count": 12,
     "metadata": {},
     "output_type": "execute_result"
    }
   ],
   "source": [
    "vocab_size = np.max(data) + 1\n",
    "vocab_size"
   ]
  },
  {
   "cell_type": "code",
   "execution_count": null,
   "metadata": {
    "collapsed": false
   },
   "outputs": [],
   "source": [
    "# check how many GB of memory will be needed\n",
    "# using int16\n",
    "print(Y.shape[0] * Y.shape[1] * (Y.max() + 1) * 16 * 1.25e-10)\n",
    "\n",
    "y_onehot = np.zeros((Y.shape[0], Y.shape[1], Y.max() + 1))\n",
    "layer_idx = np.arange(Y.shape[0]).reshape(Y.shape[0], 1)\n",
    "component_idx = np.tile(np.arange(Y.shape[1]), (Y.shape[0], 1))\n",
    "y_onehot[layer_idx, component_idx, Y] = 1"
   ]
  },
  {
   "cell_type": "code",
   "execution_count": null,
   "metadata": {
    "collapsed": false
   },
   "outputs": [],
   "source": [
    "from keras.layers.embeddings import Embedding\n",
    "from keras.layers.core import Dropout, Dense\n",
    "from keras.layers.recurrent import LSTM\n",
    "from keras.models import Sequential\n",
    "from keras.layers.wrappers import TimeDistributed\n",
    "\n",
    "embed_size = 100\n",
    "batch_size = 128\n",
    "epochs = 100\n",
    "\n",
    "model = Sequential()\n",
    "model.add(Embedding(vocab_size, embed_size, input_length=data.shape[1]))\n",
    "model.add(Dropout(0.3))\n",
    "model.add(LSTM(embed_size, return_sequences=True))\n",
    "model.add(Dropout(0.3))\n",
    "model.add(LSTM(embed_size, return_sequences=True))\n",
    "model.add(Dropout(0.3))\n",
    "model.add(TimeDistributed(Dense(vocab_size, activation='softmax')))\n",
    "\n",
    "model.compile(optimizer='adam',\n",
    "              loss='categorical_crossentropy',\n",
    "              metrics=['accuracy'])\n",
    "\n"
   ]
  },
  {
   "cell_type": "code",
   "execution_count": null,
   "metadata": {
    "collapsed": true
   },
   "outputs": [],
   "source": [
    "model.fit(data, y_onehot, batch_size=batch_size, nb_epoch=epochs, validation_split=0.05)\n",
    "model.save_weights('../data/icews_weights.h5', overwrite=False)"
   ]
  },
  {
   "cell_type": "code",
   "execution_count": null,
   "metadata": {
    "collapsed": false,
    "scrolled": true
   },
   "outputs": [],
   "source": [
    "model.load_weights('../data/icews_weights.h5')"
   ]
  },
  {
   "cell_type": "code",
   "execution_count": 15,
   "metadata": {
    "collapsed": true
   },
   "outputs": [],
   "source": [
    "def render(arr):\n",
    "    parts = []\n",
    "    for idx, col in enumerate(cols):\n",
    "        parts.append(cat_map[col][int(arr[idx])])\n",
    "    return parts"
   ]
  },
  {
   "cell_type": "code",
   "execution_count": 39,
   "metadata": {
    "collapsed": false
   },
   "outputs": [],
   "source": [
    "def ramble(seed, n):\n",
    "    rambling = [seed]\n",
    "    for _ in range(n):\n",
    "        # TODO not actually feeding in the full sequence?\n",
    "        probs = model.predict(seed.T)[0]\n",
    "        seed = []\n",
    "        # random draw based on probs\n",
    "        cs = np.cumsum(probs, axis=1)\n",
    "        for row in cs:          \n",
    "            idx = row.searchsorted(np.random.random() * row[-1], 'right')\n",
    "            seed.append(idx)\n",
    "        rambling.append(render(seed))\n",
    "        seed = np.array(seed).reshape(5,1)\n",
    "    return rambling"
   ]
  },
  {
   "cell_type": "code",
   "execution_count": 44,
   "metadata": {
    "collapsed": false
   },
   "outputs": [
    {
     "name": "stdout",
     "output_type": "stream",
     "text": [
      "Citizen (Turkey) -> Protest violently, riot -> Argentina (Italy)\n",
      "Communist Party of India (Turkey) -> Refuse to release persons or property -> Activist (Indonesia)\n",
      "High Ranking Military Personnel (NONE) -> Make statement -> Militant (Switzerland)\n",
      "Domestic Affairs (South Korea) -> Accuse -> Indonesia (Turkey)\n",
      "Media (South Korea) -> Appeal for judicial cooperation -> Japan (India)\n",
      "Protester (United Kingdom) -> Consult -> Men (United States)\n",
      "Citizen (Australia) -> Consult -> Protester (Thailand)\n",
      "Barack Obama (Thailand) -> Consult -> Men (South Korea)\n",
      "Barack Obama (United States) -> Consult -> Unspecified Actor (United States)\n",
      "Barack Obama (France) -> Cooperate economically -> Lakhdar Brahimi (Saudi Arabia)\n"
     ]
    }
   ],
   "source": [
    "seed = np.random.randint(0, 20, (5,1))\n",
    "for source_name, source_country, event_text, target_name, target_country in ramble(seed, 10):\n",
    "    print('{} ({}) -> {} -> {} ({})'.format(source_name, source_country, event_text, target_name, target_country))"
   ]
  },
  {
   "cell_type": "code",
   "execution_count": null,
   "metadata": {
    "collapsed": true
   },
   "outputs": [],
   "source": []
  }
 ],
 "metadata": {
  "kernelspec": {
   "display_name": "Python 3",
   "language": "python",
   "name": "python3"
  },
  "language_info": {
   "codemirror_mode": {
    "name": "ipython",
    "version": 3
   },
   "file_extension": ".py",
   "mimetype": "text/x-python",
   "name": "python",
   "nbconvert_exporter": "python",
   "pygments_lexer": "ipython3",
   "version": "3.4.3"
  }
 },
 "nbformat": 4,
 "nbformat_minor": 0
}
