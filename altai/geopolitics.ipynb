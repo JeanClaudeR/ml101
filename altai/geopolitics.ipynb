{
 "cells": [
  {
   "cell_type": "code",
   "execution_count": 1,
   "metadata": {
    "collapsed": false
   },
   "outputs": [],
   "source": [
    "import numpy as np\n",
    "import pandas as pd"
   ]
  },
  {
   "cell_type": "code",
   "execution_count": 2,
   "metadata": {
    "collapsed": true
   },
   "outputs": [],
   "source": [
    "df_ = pd.read_table('ICEWS Coded Event Data/events.2014.20160121105408.tab')"
   ]
  },
  {
   "cell_type": "code",
   "execution_count": 3,
   "metadata": {
    "collapsed": false
   },
   "outputs": [
    {
     "data": {
      "text/html": [
       "<div>\n",
       "<table border=\"1\" class=\"dataframe\">\n",
       "  <thead>\n",
       "    <tr style=\"text-align: right;\">\n",
       "      <th></th>\n",
       "      <th>Event ID</th>\n",
       "      <th>Event Date</th>\n",
       "      <th>Source Name</th>\n",
       "      <th>Source Sectors</th>\n",
       "      <th>Source Country</th>\n",
       "      <th>Event Text</th>\n",
       "      <th>CAMEO Code</th>\n",
       "      <th>Intensity</th>\n",
       "      <th>Target Name</th>\n",
       "      <th>Target Sectors</th>\n",
       "      <th>Target Country</th>\n",
       "      <th>Story ID</th>\n",
       "      <th>Sentence Number</th>\n",
       "      <th>Publisher</th>\n",
       "      <th>City</th>\n",
       "      <th>District</th>\n",
       "      <th>Province</th>\n",
       "      <th>Country</th>\n",
       "      <th>Latitude</th>\n",
       "      <th>Longitude</th>\n",
       "    </tr>\n",
       "  </thead>\n",
       "  <tbody>\n",
       "    <tr>\n",
       "      <th>0</th>\n",
       "      <td>20718170</td>\n",
       "      <td>2014-01-01</td>\n",
       "      <td>Police (Australia)</td>\n",
       "      <td>Police,Government</td>\n",
       "      <td>Australia</td>\n",
       "      <td>Arrest, detain, or charge with legal action</td>\n",
       "      <td>173</td>\n",
       "      <td>-5</td>\n",
       "      <td>Men (Australia)</td>\n",
       "      <td>Social,General Population / Civilian / Social</td>\n",
       "      <td>Australia</td>\n",
       "      <td>32493690</td>\n",
       "      <td>2</td>\n",
       "      <td>Daily Telegraph</td>\n",
       "      <td>Surfers Paradise</td>\n",
       "      <td>Gold Coast</td>\n",
       "      <td>State of Queensland</td>\n",
       "      <td>Australia</td>\n",
       "      <td>-28.00270</td>\n",
       "      <td>153.4300</td>\n",
       "    </tr>\n",
       "    <tr>\n",
       "      <th>1</th>\n",
       "      <td>20718171</td>\n",
       "      <td>2014-01-01</td>\n",
       "      <td>Police (Australia)</td>\n",
       "      <td>Police,Government</td>\n",
       "      <td>Australia</td>\n",
       "      <td>Arrest, detain, or charge with legal action</td>\n",
       "      <td>173</td>\n",
       "      <td>-5</td>\n",
       "      <td>Children (Australia)</td>\n",
       "      <td>Social,General Population / Civilian / Social</td>\n",
       "      <td>Australia</td>\n",
       "      <td>32493693</td>\n",
       "      <td>1</td>\n",
       "      <td>Daily Telegraph</td>\n",
       "      <td>Maroubra</td>\n",
       "      <td>Randwick</td>\n",
       "      <td>State of New South Wales</td>\n",
       "      <td>Australia</td>\n",
       "      <td>-33.95000</td>\n",
       "      <td>151.2330</td>\n",
       "    </tr>\n",
       "    <tr>\n",
       "      <th>2</th>\n",
       "      <td>20718172</td>\n",
       "      <td>2014-01-01</td>\n",
       "      <td>Government Official (Democratic Republic of Co...</td>\n",
       "      <td>Government</td>\n",
       "      <td>Democratic Republic of Congo</td>\n",
       "      <td>Make statement</td>\n",
       "      <td>10</td>\n",
       "      <td>0</td>\n",
       "      <td>Attacker (Democratic Republic of Congo)</td>\n",
       "      <td>Criminals / Gangs,Dissident</td>\n",
       "      <td>Democratic Republic of Congo</td>\n",
       "      <td>32495112</td>\n",
       "      <td>3</td>\n",
       "      <td>The Australian</td>\n",
       "      <td>Kinshasa</td>\n",
       "      <td>NaN</td>\n",
       "      <td>Kinshasa City</td>\n",
       "      <td>Democratic Republic of Congo</td>\n",
       "      <td>-4.32142</td>\n",
       "      <td>15.3081</td>\n",
       "    </tr>\n",
       "    <tr>\n",
       "      <th>3</th>\n",
       "      <td>20718174</td>\n",
       "      <td>2014-01-01</td>\n",
       "      <td>Military (South Sudan)</td>\n",
       "      <td>Military,Government</td>\n",
       "      <td>South Sudan</td>\n",
       "      <td>Use conventional military force</td>\n",
       "      <td>190</td>\n",
       "      <td>-10</td>\n",
       "      <td>Armed Rebel (South Sudan)</td>\n",
       "      <td>Rebel,Dissident</td>\n",
       "      <td>South Sudan</td>\n",
       "      <td>32495113</td>\n",
       "      <td>1</td>\n",
       "      <td>The Australian</td>\n",
       "      <td>Juba</td>\n",
       "      <td>NaN</td>\n",
       "      <td>Central Equatoria State</td>\n",
       "      <td>South Sudan</td>\n",
       "      <td>4.85165</td>\n",
       "      <td>31.5825</td>\n",
       "    </tr>\n",
       "    <tr>\n",
       "      <th>4</th>\n",
       "      <td>20718173</td>\n",
       "      <td>2014-01-01</td>\n",
       "      <td>Armed Rebel (South Sudan)</td>\n",
       "      <td>Rebel,Dissident</td>\n",
       "      <td>South Sudan</td>\n",
       "      <td>Use unconventional violence</td>\n",
       "      <td>180</td>\n",
       "      <td>-9</td>\n",
       "      <td>Military (South Sudan)</td>\n",
       "      <td>Military,Government</td>\n",
       "      <td>South Sudan</td>\n",
       "      <td>32495113</td>\n",
       "      <td>1</td>\n",
       "      <td>The Australian</td>\n",
       "      <td>Juba</td>\n",
       "      <td>NaN</td>\n",
       "      <td>Central Equatoria State</td>\n",
       "      <td>South Sudan</td>\n",
       "      <td>4.85165</td>\n",
       "      <td>31.5825</td>\n",
       "    </tr>\n",
       "  </tbody>\n",
       "</table>\n",
       "</div>"
      ],
      "text/plain": [
       "   Event ID  Event Date                                        Source Name  \\\n",
       "0  20718170  2014-01-01                                 Police (Australia)   \n",
       "1  20718171  2014-01-01                                 Police (Australia)   \n",
       "2  20718172  2014-01-01  Government Official (Democratic Republic of Co...   \n",
       "3  20718174  2014-01-01                             Military (South Sudan)   \n",
       "4  20718173  2014-01-01                          Armed Rebel (South Sudan)   \n",
       "\n",
       "        Source Sectors                Source Country  \\\n",
       "0    Police,Government                     Australia   \n",
       "1    Police,Government                     Australia   \n",
       "2           Government  Democratic Republic of Congo   \n",
       "3  Military,Government                   South Sudan   \n",
       "4      Rebel,Dissident                   South Sudan   \n",
       "\n",
       "                                    Event Text  CAMEO Code  Intensity  \\\n",
       "0  Arrest, detain, or charge with legal action         173         -5   \n",
       "1  Arrest, detain, or charge with legal action         173         -5   \n",
       "2                               Make statement          10          0   \n",
       "3              Use conventional military force         190        -10   \n",
       "4                  Use unconventional violence         180         -9   \n",
       "\n",
       "                               Target Name  \\\n",
       "0                          Men (Australia)   \n",
       "1                     Children (Australia)   \n",
       "2  Attacker (Democratic Republic of Congo)   \n",
       "3                Armed Rebel (South Sudan)   \n",
       "4                   Military (South Sudan)   \n",
       "\n",
       "                                  Target Sectors  \\\n",
       "0  Social,General Population / Civilian / Social   \n",
       "1  Social,General Population / Civilian / Social   \n",
       "2                    Criminals / Gangs,Dissident   \n",
       "3                                Rebel,Dissident   \n",
       "4                            Military,Government   \n",
       "\n",
       "                 Target Country  Story ID  Sentence Number        Publisher  \\\n",
       "0                     Australia  32493690                2  Daily Telegraph   \n",
       "1                     Australia  32493693                1  Daily Telegraph   \n",
       "2  Democratic Republic of Congo  32495112                3   The Australian   \n",
       "3                   South Sudan  32495113                1   The Australian   \n",
       "4                   South Sudan  32495113                1   The Australian   \n",
       "\n",
       "               City    District                  Province  \\\n",
       "0  Surfers Paradise  Gold Coast       State of Queensland   \n",
       "1          Maroubra    Randwick  State of New South Wales   \n",
       "2          Kinshasa         NaN             Kinshasa City   \n",
       "3              Juba         NaN   Central Equatoria State   \n",
       "4              Juba         NaN   Central Equatoria State   \n",
       "\n",
       "                        Country  Latitude  Longitude  \n",
       "0                     Australia -28.00270   153.4300  \n",
       "1                     Australia -33.95000   151.2330  \n",
       "2  Democratic Republic of Congo  -4.32142    15.3081  \n",
       "3                   South Sudan   4.85165    31.5825  \n",
       "4                   South Sudan   4.85165    31.5825  "
      ]
     },
     "execution_count": 3,
     "metadata": {},
     "output_type": "execute_result"
    }
   ],
   "source": [
    "df_.head()"
   ]
  },
  {
   "cell_type": "code",
   "execution_count": 4,
   "metadata": {
    "collapsed": false
   },
   "outputs": [
    {
     "data": {
      "text/plain": [
       "879393"
      ]
     },
     "execution_count": 4,
     "metadata": {},
     "output_type": "execute_result"
    }
   ],
   "source": [
    "len(df_)"
   ]
  },
  {
   "cell_type": "code",
   "execution_count": 5,
   "metadata": {
    "collapsed": false
   },
   "outputs": [
    {
     "data": {
      "text/html": [
       "<div>\n",
       "<table border=\"1\" class=\"dataframe\">\n",
       "  <thead>\n",
       "    <tr style=\"text-align: right;\">\n",
       "      <th></th>\n",
       "      <th>Source Name</th>\n",
       "      <th>Source Country</th>\n",
       "      <th>Event Text</th>\n",
       "      <th>Target Name</th>\n",
       "      <th>Target Country</th>\n",
       "    </tr>\n",
       "  </thead>\n",
       "  <tbody>\n",
       "    <tr>\n",
       "      <th>0</th>\n",
       "      <td>Police</td>\n",
       "      <td>Australia</td>\n",
       "      <td>Arrest, detain, or charge with legal action</td>\n",
       "      <td>Men</td>\n",
       "      <td>Australia</td>\n",
       "    </tr>\n",
       "    <tr>\n",
       "      <th>1</th>\n",
       "      <td>Police</td>\n",
       "      <td>Australia</td>\n",
       "      <td>Arrest, detain, or charge with legal action</td>\n",
       "      <td>Children</td>\n",
       "      <td>Australia</td>\n",
       "    </tr>\n",
       "    <tr>\n",
       "      <th>2</th>\n",
       "      <td>Government Official</td>\n",
       "      <td>Democratic Republic of Congo</td>\n",
       "      <td>Make statement</td>\n",
       "      <td>Attacker</td>\n",
       "      <td>Democratic Republic of Congo</td>\n",
       "    </tr>\n",
       "    <tr>\n",
       "      <th>3</th>\n",
       "      <td>Military</td>\n",
       "      <td>South Sudan</td>\n",
       "      <td>Use conventional military force</td>\n",
       "      <td>Armed Rebel</td>\n",
       "      <td>South Sudan</td>\n",
       "    </tr>\n",
       "    <tr>\n",
       "      <th>4</th>\n",
       "      <td>Armed Rebel</td>\n",
       "      <td>South Sudan</td>\n",
       "      <td>Use unconventional violence</td>\n",
       "      <td>Military</td>\n",
       "      <td>South Sudan</td>\n",
       "    </tr>\n",
       "  </tbody>\n",
       "</table>\n",
       "</div>"
      ],
      "text/plain": [
       "           Source Name                Source Country  \\\n",
       "0               Police                     Australia   \n",
       "1               Police                     Australia   \n",
       "2  Government Official  Democratic Republic of Congo   \n",
       "3             Military                   South Sudan   \n",
       "4          Armed Rebel                   South Sudan   \n",
       "\n",
       "                                    Event Text  Target Name  \\\n",
       "0  Arrest, detain, or charge with legal action          Men   \n",
       "1  Arrest, detain, or charge with legal action     Children   \n",
       "2                               Make statement     Attacker   \n",
       "3              Use conventional military force  Armed Rebel   \n",
       "4                  Use unconventional violence     Military   \n",
       "\n",
       "                 Target Country  \n",
       "0                     Australia  \n",
       "1                     Australia  \n",
       "2  Democratic Republic of Congo  \n",
       "3                   South Sudan  \n",
       "4                   South Sudan  "
      ]
     },
     "execution_count": 5,
     "metadata": {},
     "output_type": "execute_result"
    }
   ],
   "source": [
    "# Source and Target Sectors are kind of redundant with Source and Target Names\n",
    "cols = ['Source Name', 'Source Country', 'Event Text', 'Target Name', 'Target Country']\n",
    "df = df_.loc[:, cols]\n",
    "\n",
    "# the category label space is massive, this reduces it\n",
    "df['Source Name'].replace(to_replace='\\s\\(.+', value='', inplace=True, regex=True)\n",
    "df['Target Name'].replace(to_replace='\\s\\(.+', value='', inplace=True, regex=True) \n",
    "\n",
    "# NaN values are when source/target don't have a country\n",
    "# df[df.isnull().any(axis=1)]\n",
    "df.fillna('NONE', inplace=True)\n",
    "\n",
    "n_samples = 300000\n",
    "df = df[:n_samples]\n",
    "\n",
    "df.head()"
   ]
  },
  {
   "cell_type": "code",
   "execution_count": 6,
   "metadata": {
    "collapsed": false
   },
   "outputs": [],
   "source": [
    "cat_map = {}\n",
    "for col in cols:\n",
    "    cat = df.loc[:,col].astype('category')\n",
    "    cat_map[col] = cat.cat.categories\n",
    "    df.loc[:,col] = cat.cat.codes"
   ]
  },
  {
   "cell_type": "code",
   "execution_count": 7,
   "metadata": {
    "collapsed": false
   },
   "outputs": [
    {
     "data": {
      "text/plain": [
       "'Australia'"
      ]
     },
     "execution_count": 7,
     "metadata": {},
     "output_type": "execute_result"
    }
   ],
   "source": [
    "cat_map['Source Country'][df['Source Country'][0]]"
   ]
  },
  {
   "cell_type": "code",
   "execution_count": 8,
   "metadata": {
    "collapsed": false,
    "scrolled": true
   },
   "outputs": [
    {
     "data": {
      "text/plain": [
       "array([[5477,   10,   39, 3618,    9],\n",
       "       [5477,   10,   39, 1103,    9],\n",
       "       [2493,   51,  169,  666,   50],\n",
       "       ..., \n",
       "       [ 210,   67,   94, 4559,   30],\n",
       "       [5477,   31,   94,  167,   66],\n",
       "       [7303,  217,  236,  390,  220]], dtype=int16)"
      ]
     },
     "execution_count": 8,
     "metadata": {},
     "output_type": "execute_result"
    }
   ],
   "source": [
    "data = df.as_matrix()\n",
    "data"
   ]
  },
  {
   "cell_type": "code",
   "execution_count": 9,
   "metadata": {
    "collapsed": false
   },
   "outputs": [
    {
     "data": {
      "text/plain": [
       "(299999, 5)"
      ]
     },
     "execution_count": 9,
     "metadata": {},
     "output_type": "execute_result"
    }
   ],
   "source": [
    "Y = data[1:]\n",
    "Y.shape"
   ]
  },
  {
   "cell_type": "code",
   "execution_count": 10,
   "metadata": {
    "collapsed": false
   },
   "outputs": [
    {
     "data": {
      "text/plain": [
       "(299999, 5)"
      ]
     },
     "execution_count": 10,
     "metadata": {},
     "output_type": "execute_result"
    }
   ],
   "source": [
    "data = data[:-1]\n",
    "data.shape"
   ]
  },
  {
   "cell_type": "code",
   "execution_count": 11,
   "metadata": {
    "collapsed": false
   },
   "outputs": [
    {
     "data": {
      "text/plain": [
       "7458"
      ]
     },
     "execution_count": 11,
     "metadata": {},
     "output_type": "execute_result"
    }
   ],
   "source": [
    "vocab_size = np.max(data) + 1\n",
    "vocab_size"
   ]
  },
  {
   "cell_type": "code",
   "execution_count": 12,
   "metadata": {
    "collapsed": false
   },
   "outputs": [
    {
     "name": "stdout",
     "output_type": "stream",
     "text": [
      "11.18696271\n"
     ]
    }
   ],
   "source": [
    "# check how many GB of memory will be needed\n",
    "# using bool (8 bits)\n",
    "print(Y.shape[0] * Y.shape[1] * (Y.max() + 1) * 8 * 1.25e-10)\n",
    "\n",
    "y_onehot = np.zeros((Y.shape[0], Y.shape[1], Y.max() + 1), dtype=np.bool)\n",
    "layer_idx = np.arange(Y.shape[0]).reshape(Y.shape[0], 1)\n",
    "component_idx = np.tile(np.arange(Y.shape[1]), (Y.shape[0], 1))\n",
    "y_onehot[layer_idx, component_idx, Y] = 1"
   ]
  },
  {
   "cell_type": "code",
   "execution_count": 13,
   "metadata": {
    "collapsed": false
   },
   "outputs": [
    {
     "name": "stdout",
     "output_type": "stream",
     "text": [
      "Train on 284999 samples, validate on 15000 samples\n",
      "Epoch 1/100\n",
      "284999/284999 [==============================] - 105s - loss: 5.7698 - acc: 0.0637 - val_loss: 5.3196 - val_acc: 0.0997\n",
      "Epoch 2/100\n",
      "284999/284999 [==============================] - 105s - loss: 5.1970 - acc: 0.0945 - val_loss: 5.1333 - val_acc: 0.1071\n",
      "Epoch 3/100\n",
      "284999/284999 [==============================] - 105s - loss: 5.0920 - acc: 0.0995 - val_loss: 5.0296 - val_acc: 0.1141\n",
      "Epoch 4/100\n",
      "284999/284999 [==============================] - 105s - loss: 5.0017 - acc: 0.1070 - val_loss: 4.9179 - val_acc: 0.1288\n",
      "Epoch 5/100\n",
      "284999/284999 [==============================] - 105s - loss: 4.9005 - acc: 0.1224 - val_loss: 4.8045 - val_acc: 0.1414\n",
      "Epoch 6/100\n",
      "284999/284999 [==============================] - 105s - loss: 4.7777 - acc: 0.1357 - val_loss: 4.6734 - val_acc: 0.1581\n",
      "Epoch 7/100\n",
      "284999/284999 [==============================] - 105s - loss: 4.6456 - acc: 0.1526 - val_loss: 4.5741 - val_acc: 0.1757\n",
      "Epoch 8/100\n",
      "284999/284999 [==============================] - 105s - loss: 4.5552 - acc: 0.1651 - val_loss: 4.5031 - val_acc: 0.1887\n",
      "Epoch 9/100\n",
      "284999/284999 [==============================] - 105s - loss: 4.4810 - acc: 0.1757 - val_loss: 4.4404 - val_acc: 0.1989\n",
      "Epoch 10/100\n",
      "284999/284999 [==============================] - 105s - loss: 4.4140 - acc: 0.1866 - val_loss: 4.3858 - val_acc: 0.2079\n",
      "Epoch 11/100\n",
      "284999/284999 [==============================] - 105s - loss: 4.3667 - acc: 0.1948 - val_loss: 4.3443 - val_acc: 0.2150\n",
      "Epoch 12/100\n",
      "284999/284999 [==============================] - 105s - loss: 4.3268 - acc: 0.2018 - val_loss: 4.3146 - val_acc: 0.2193\n",
      "Epoch 13/100\n",
      "284999/284999 [==============================] - 105s - loss: 4.2962 - acc: 0.2076 - val_loss: 4.2906 - val_acc: 0.2245\n",
      "Epoch 14/100\n",
      "284999/284999 [==============================] - 105s - loss: 4.2674 - acc: 0.2136 - val_loss: 4.2663 - val_acc: 0.2326\n",
      "Epoch 15/100\n",
      "284999/284999 [==============================] - 105s - loss: 4.2433 - acc: 0.2184 - val_loss: 4.2449 - val_acc: 0.2371\n",
      "Epoch 16/100\n",
      "284999/284999 [==============================] - 105s - loss: 4.2188 - acc: 0.2234 - val_loss: 4.2226 - val_acc: 0.2433\n",
      "Epoch 17/100\n",
      "284999/284999 [==============================] - 105s - loss: 4.1981 - acc: 0.2275 - val_loss: 4.2018 - val_acc: 0.2473\n",
      "Epoch 18/100\n",
      "284999/284999 [==============================] - 105s - loss: 4.1787 - acc: 0.2316 - val_loss: 4.1880 - val_acc: 0.2517\n",
      "Epoch 19/100\n",
      "284999/284999 [==============================] - 105s - loss: 4.1643 - acc: 0.2344 - val_loss: 4.1764 - val_acc: 0.2533\n",
      "Epoch 20/100\n",
      "284999/284999 [==============================] - 105s - loss: 4.1499 - acc: 0.2368 - val_loss: 4.1643 - val_acc: 0.2565\n",
      "Epoch 21/100\n",
      "284999/284999 [==============================] - 104s - loss: 4.1371 - acc: 0.2397 - val_loss: 4.1538 - val_acc: 0.2595\n",
      "Epoch 22/100\n",
      "284999/284999 [==============================] - 104s - loss: 4.1261 - acc: 0.2415 - val_loss: 4.1473 - val_acc: 0.2611\n",
      "Epoch 23/100\n",
      "284999/284999 [==============================] - 104s - loss: 4.1158 - acc: 0.2435 - val_loss: 4.1365 - val_acc: 0.2615\n",
      "Epoch 24/100\n",
      "284999/284999 [==============================] - 104s - loss: 4.1047 - acc: 0.2450 - val_loss: 4.1288 - val_acc: 0.2623\n",
      "Epoch 25/100\n",
      "284999/284999 [==============================] - 104s - loss: 4.0954 - acc: 0.2467 - val_loss: 4.1218 - val_acc: 0.2649\n",
      "Epoch 26/100\n",
      "284999/284999 [==============================] - 104s - loss: 4.0870 - acc: 0.2478 - val_loss: 4.1152 - val_acc: 0.2647\n",
      "Epoch 27/100\n",
      "284999/284999 [==============================] - 104s - loss: 4.0791 - acc: 0.2494 - val_loss: 4.1098 - val_acc: 0.2652\n",
      "Epoch 28/100\n",
      "284999/284999 [==============================] - 104s - loss: 4.0723 - acc: 0.2504 - val_loss: 4.1050 - val_acc: 0.2664\n",
      "Epoch 29/100\n",
      "284999/284999 [==============================] - 104s - loss: 4.0659 - acc: 0.2514 - val_loss: 4.1019 - val_acc: 0.2663\n",
      "Epoch 30/100\n",
      "284999/284999 [==============================] - 104s - loss: 4.0588 - acc: 0.2522 - val_loss: 4.0980 - val_acc: 0.2685\n",
      "Epoch 31/100\n",
      "284999/284999 [==============================] - 104s - loss: 4.0534 - acc: 0.2537 - val_loss: 4.0931 - val_acc: 0.2702\n",
      "Epoch 32/100\n",
      "284999/284999 [==============================] - 104s - loss: 4.0473 - acc: 0.2540 - val_loss: 4.0870 - val_acc: 0.2695\n",
      "Epoch 33/100\n",
      "284999/284999 [==============================] - 104s - loss: 4.0421 - acc: 0.2549 - val_loss: 4.0817 - val_acc: 0.2693\n",
      "Epoch 34/100\n",
      "284999/284999 [==============================] - 104s - loss: 4.0371 - acc: 0.2557 - val_loss: 4.0822 - val_acc: 0.2711\n",
      "Epoch 35/100\n",
      "284999/284999 [==============================] - 104s - loss: 4.0312 - acc: 0.2566 - val_loss: 4.0765 - val_acc: 0.2724\n",
      "Epoch 36/100\n",
      "284999/284999 [==============================] - 104s - loss: 4.0265 - acc: 0.2576 - val_loss: 4.0740 - val_acc: 0.2729\n",
      "Epoch 37/100\n",
      "284999/284999 [==============================] - 104s - loss: 4.0214 - acc: 0.2584 - val_loss: 4.0730 - val_acc: 0.2740\n",
      "Epoch 38/100\n",
      "284999/284999 [==============================] - 104s - loss: 4.0182 - acc: 0.2584 - val_loss: 4.0683 - val_acc: 0.2751\n",
      "Epoch 39/100\n",
      "284999/284999 [==============================] - 104s - loss: 4.0140 - acc: 0.2591 - val_loss: 4.0666 - val_acc: 0.2757\n",
      "Epoch 40/100\n",
      "284999/284999 [==============================] - 104s - loss: 4.0097 - acc: 0.2596 - val_loss: 4.0651 - val_acc: 0.2748\n",
      "Epoch 41/100\n",
      "284999/284999 [==============================] - 104s - loss: 4.0065 - acc: 0.2602 - val_loss: 4.0610 - val_acc: 0.2760\n",
      "Epoch 42/100\n",
      "284999/284999 [==============================] - 104s - loss: 4.0028 - acc: 0.2606 - val_loss: 4.0606 - val_acc: 0.2743\n",
      "Epoch 43/100\n",
      "284999/284999 [==============================] - 104s - loss: 4.0002 - acc: 0.2609 - val_loss: 4.0587 - val_acc: 0.2763\n",
      "Epoch 44/100\n",
      "284999/284999 [==============================] - 104s - loss: 3.9958 - acc: 0.2613 - val_loss: 4.0595 - val_acc: 0.2769\n",
      "Epoch 45/100\n",
      "284999/284999 [==============================] - 104s - loss: 3.9940 - acc: 0.2619 - val_loss: 4.0544 - val_acc: 0.2765\n",
      "Epoch 46/100\n",
      "284999/284999 [==============================] - 104s - loss: 3.9915 - acc: 0.2621 - val_loss: 4.0518 - val_acc: 0.2773\n",
      "Epoch 47/100\n",
      "284999/284999 [==============================] - 104s - loss: 3.9877 - acc: 0.2626 - val_loss: 4.0532 - val_acc: 0.2784\n",
      "Epoch 48/100\n",
      "284999/284999 [==============================] - 104s - loss: 3.9863 - acc: 0.2632 - val_loss: 4.0505 - val_acc: 0.2781\n",
      "Epoch 49/100\n",
      "284999/284999 [==============================] - 104s - loss: 3.9835 - acc: 0.2630 - val_loss: 4.0497 - val_acc: 0.2777\n",
      "Epoch 50/100\n",
      "284999/284999 [==============================] - 104s - loss: 3.9807 - acc: 0.2635 - val_loss: 4.0497 - val_acc: 0.2790\n",
      "Epoch 51/100\n",
      "284999/284999 [==============================] - 104s - loss: 3.9786 - acc: 0.2639 - val_loss: 4.0483 - val_acc: 0.2782\n",
      "Epoch 52/100\n",
      "284999/284999 [==============================] - 104s - loss: 3.9753 - acc: 0.2640 - val_loss: 4.0438 - val_acc: 0.2788\n",
      "Epoch 53/100\n",
      "284999/284999 [==============================] - 104s - loss: 3.9745 - acc: 0.2642 - val_loss: 4.0442 - val_acc: 0.2788\n",
      "Epoch 54/100\n",
      "284999/284999 [==============================] - 104s - loss: 3.9720 - acc: 0.2640 - val_loss: 4.0444 - val_acc: 0.2802\n",
      "Epoch 55/100\n",
      "284999/284999 [==============================] - 104s - loss: 3.9698 - acc: 0.2645 - val_loss: 4.0443 - val_acc: 0.2803\n",
      "Epoch 56/100\n",
      "284999/284999 [==============================] - 104s - loss: 3.9676 - acc: 0.2651 - val_loss: 4.0398 - val_acc: 0.2796\n",
      "Epoch 57/100\n",
      "284999/284999 [==============================] - 104s - loss: 3.9656 - acc: 0.2651 - val_loss: 4.0378 - val_acc: 0.2797\n",
      "Epoch 58/100\n",
      "284999/284999 [==============================] - 104s - loss: 3.9629 - acc: 0.2656 - val_loss: 4.0371 - val_acc: 0.2806\n",
      "Epoch 59/100\n",
      "284999/284999 [==============================] - 104s - loss: 3.9626 - acc: 0.2653 - val_loss: 4.0379 - val_acc: 0.2815\n",
      "Epoch 60/100\n",
      "284999/284999 [==============================] - 104s - loss: 3.9607 - acc: 0.2656 - val_loss: 4.0371 - val_acc: 0.2789\n",
      "Epoch 61/100\n",
      "284999/284999 [==============================] - 104s - loss: 3.9602 - acc: 0.2660 - val_loss: 4.0366 - val_acc: 0.2802\n",
      "Epoch 62/100\n",
      "284999/284999 [==============================] - 104s - loss: 3.9576 - acc: 0.2659 - val_loss: 4.0354 - val_acc: 0.2807\n",
      "Epoch 63/100\n",
      "284999/284999 [==============================] - 104s - loss: 3.9555 - acc: 0.2664 - val_loss: 4.0356 - val_acc: 0.2808\n",
      "Epoch 64/100\n",
      "284999/284999 [==============================] - 104s - loss: 3.9548 - acc: 0.2664 - val_loss: 4.0363 - val_acc: 0.2805\n",
      "Epoch 65/100\n",
      "284999/284999 [==============================] - 104s - loss: 3.9529 - acc: 0.2668 - val_loss: 4.0325 - val_acc: 0.2799\n",
      "Epoch 66/100\n",
      "284999/284999 [==============================] - 104s - loss: 3.9525 - acc: 0.2667 - val_loss: 4.0313 - val_acc: 0.2804\n",
      "Epoch 67/100\n",
      "284999/284999 [==============================] - 104s - loss: 3.9509 - acc: 0.2672 - val_loss: 4.0324 - val_acc: 0.2804\n",
      "Epoch 68/100\n",
      "284999/284999 [==============================] - 104s - loss: 3.9492 - acc: 0.2672 - val_loss: 4.0337 - val_acc: 0.2803\n",
      "Epoch 69/100\n",
      "284999/284999 [==============================] - 104s - loss: 3.9476 - acc: 0.2673 - val_loss: 4.0305 - val_acc: 0.2805\n",
      "Epoch 70/100\n",
      "284999/284999 [==============================] - 104s - loss: 3.9469 - acc: 0.2676 - val_loss: 4.0304 - val_acc: 0.2791\n",
      "Epoch 71/100\n",
      "284999/284999 [==============================] - 104s - loss: 3.9459 - acc: 0.2674 - val_loss: 4.0290 - val_acc: 0.2816\n",
      "Epoch 72/100\n",
      "284999/284999 [==============================] - 104s - loss: 3.9446 - acc: 0.2675 - val_loss: 4.0276 - val_acc: 0.2823\n",
      "Epoch 73/100\n",
      "284999/284999 [==============================] - 104s - loss: 3.9435 - acc: 0.2679 - val_loss: 4.0292 - val_acc: 0.2806\n",
      "Epoch 74/100\n",
      "284999/284999 [==============================] - 104s - loss: 3.9421 - acc: 0.2681 - val_loss: 4.0280 - val_acc: 0.2814\n",
      "Epoch 75/100\n",
      "284999/284999 [==============================] - 104s - loss: 3.9409 - acc: 0.2682 - val_loss: 4.0263 - val_acc: 0.2831\n",
      "Epoch 76/100\n",
      "284999/284999 [==============================] - 105s - loss: 3.9394 - acc: 0.2683 - val_loss: 4.0258 - val_acc: 0.2819\n",
      "Epoch 77/100\n",
      "284999/284999 [==============================] - 104s - loss: 3.9380 - acc: 0.2684 - val_loss: 4.0257 - val_acc: 0.2813\n",
      "Epoch 78/100\n",
      "284999/284999 [==============================] - 104s - loss: 3.9375 - acc: 0.2686 - val_loss: 4.0242 - val_acc: 0.2812\n",
      "Epoch 79/100\n",
      "284999/284999 [==============================] - 104s - loss: 3.9366 - acc: 0.2686 - val_loss: 4.0248 - val_acc: 0.2822\n",
      "Epoch 80/100\n",
      "284999/284999 [==============================] - 104s - loss: 3.9355 - acc: 0.2691 - val_loss: 4.0237 - val_acc: 0.2820\n",
      "Epoch 81/100\n",
      "284999/284999 [==============================] - 105s - loss: 3.9347 - acc: 0.2686 - val_loss: 4.0243 - val_acc: 0.2821\n",
      "Epoch 82/100\n",
      "284999/284999 [==============================] - 104s - loss: 3.9347 - acc: 0.2687 - val_loss: 4.0237 - val_acc: 0.2824\n",
      "Epoch 83/100\n",
      "284999/284999 [==============================] - 104s - loss: 3.9321 - acc: 0.2690 - val_loss: 4.0249 - val_acc: 0.2816\n",
      "Epoch 84/100\n",
      "284999/284999 [==============================] - 104s - loss: 3.9322 - acc: 0.2692 - val_loss: 4.0230 - val_acc: 0.2823\n",
      "Epoch 85/100\n",
      "284999/284999 [==============================] - 104s - loss: 3.9314 - acc: 0.2690 - val_loss: 4.0217 - val_acc: 0.2832\n",
      "Epoch 86/100\n",
      "284999/284999 [==============================] - 105s - loss: 3.9300 - acc: 0.2692 - val_loss: 4.0218 - val_acc: 0.2821\n",
      "Epoch 87/100\n",
      "284999/284999 [==============================] - 105s - loss: 3.9278 - acc: 0.2695 - val_loss: 4.0219 - val_acc: 0.2827\n",
      "Epoch 88/100\n",
      "284999/284999 [==============================] - 105s - loss: 3.9282 - acc: 0.2697 - val_loss: 4.0211 - val_acc: 0.2829\n",
      "Epoch 89/100\n",
      "284999/284999 [==============================] - 105s - loss: 3.9286 - acc: 0.2695 - val_loss: 4.0219 - val_acc: 0.2832\n",
      "Epoch 90/100\n",
      "284999/284999 [==============================] - 104s - loss: 3.9268 - acc: 0.2699 - val_loss: 4.0228 - val_acc: 0.2824\n",
      "Epoch 91/100\n",
      "284999/284999 [==============================] - 105s - loss: 3.9261 - acc: 0.2700 - val_loss: 4.0202 - val_acc: 0.2838\n",
      "Epoch 92/100\n",
      "284999/284999 [==============================] - 105s - loss: 3.9250 - acc: 0.2702 - val_loss: 4.0204 - val_acc: 0.2832\n",
      "Epoch 93/100\n",
      "284999/284999 [==============================] - 105s - loss: 3.9245 - acc: 0.2699 - val_loss: 4.0186 - val_acc: 0.2837\n",
      "Epoch 94/100\n",
      "284999/284999 [==============================] - 105s - loss: 3.9226 - acc: 0.2704 - val_loss: 4.0188 - val_acc: 0.2842\n",
      "Epoch 95/100\n",
      "284999/284999 [==============================] - 104s - loss: 3.9225 - acc: 0.2705 - val_loss: 4.0185 - val_acc: 0.2827\n",
      "Epoch 96/100\n",
      "284999/284999 [==============================] - 105s - loss: 3.9211 - acc: 0.2707 - val_loss: 4.0188 - val_acc: 0.2838\n",
      "Epoch 97/100\n",
      "284999/284999 [==============================] - 105s - loss: 3.9205 - acc: 0.2705 - val_loss: 4.0177 - val_acc: 0.2842\n",
      "Epoch 98/100\n",
      "284999/284999 [==============================] - 104s - loss: 3.9202 - acc: 0.2707 - val_loss: 4.0161 - val_acc: 0.2820\n",
      "Epoch 99/100\n",
      "284999/284999 [==============================] - 105s - loss: 3.9188 - acc: 0.2705 - val_loss: 4.0171 - val_acc: 0.2832\n",
      "Epoch 100/100\n",
      "284999/284999 [==============================] - 104s - loss: 3.9195 - acc: 0.2709 - val_loss: 4.0174 - val_acc: 0.2841\n"
     ]
    },
    {
     "name": "stderr",
     "output_type": "stream",
     "text": [
      "Using TensorFlow backend.\n"
     ]
    },
    {
     "data": {
      "text/plain": [
       "<keras.callbacks.History at 0x7fe5e9959940>"
      ]
     },
     "execution_count": 13,
     "metadata": {},
     "output_type": "execute_result"
    }
   ],
   "source": [
    "from keras.layers.embeddings import Embedding\n",
    "from keras.layers.core import Dropout, Dense\n",
    "from keras.layers.recurrent import LSTM\n",
    "from keras.models import Sequential\n",
    "from keras.layers.wrappers import TimeDistributed\n",
    "\n",
    "embed_size = 50\n",
    "batch_size = 256\n",
    "epochs = 100\n",
    "\n",
    "model = Sequential()\n",
    "model.add(Embedding(vocab_size, embed_size, input_length=data.shape[1]))\n",
    "model.add(Dropout(0.3))\n",
    "model.add(LSTM(embed_size, return_sequences=True))\n",
    "model.add(Dropout(0.3))\n",
    "model.add(LSTM(embed_size, return_sequences=True))\n",
    "model.add(Dropout(0.3))\n",
    "model.add(TimeDistributed(Dense(vocab_size, activation='softmax')))\n",
    "\n",
    "model.compile(optimizer='adam',\n",
    "              loss='categorical_crossentropy',\n",
    "              metrics=['accuracy'])\n",
    "\n",
    "model.fit(data, y_onehot, batch_size=batch_size, nb_epoch=epochs, validation_split=0.05)"
   ]
  },
  {
   "cell_type": "code",
   "execution_count": 14,
   "metadata": {
    "collapsed": false
   },
   "outputs": [],
   "source": [
    "model.save_weights('icews_weights.h5', overwrite=True)"
   ]
  },
  {
   "cell_type": "code",
   "execution_count": 15,
   "metadata": {
    "collapsed": true
   },
   "outputs": [],
   "source": [
    "def render(arr):\n",
    "    parts = []\n",
    "    for idx, col in enumerate(cols):\n",
    "        parts.append(cat_map[col][int(arr[idx])])\n",
    "    return parts"
   ]
  },
  {
   "cell_type": "code",
   "execution_count": 16,
   "metadata": {
    "collapsed": false
   },
   "outputs": [],
   "source": [
    "def ramble(seed, n):\n",
    "    rambling = [seed]\n",
    "    for _ in range(n):\n",
    "        probs = model.predict(seed.T)[0]\n",
    "        seed = []\n",
    "        # random draw based on probs\n",
    "        cs = np.cumsum(probs, axis=1)\n",
    "        for row in cs:          \n",
    "            idx = row.searchsorted(np.random.random() * row[-1], 'right')\n",
    "            seed.append(idx)\n",
    "        rambling.append(render(seed))\n",
    "        seed = np.array(seed).reshape(5,1)\n",
    "    return rambling"
   ]
  },
  {
   "cell_type": "code",
   "execution_count": 17,
   "metadata": {
    "collapsed": false
   },
   "outputs": [
    {
     "name": "stdout",
     "output_type": "stream",
     "text": [
      "[2] ([17]) -> [7] -> [13] ([5])\n",
      "A.B. Bardhan (Democratic Republic of Congo) -> Consult -> Greece (Venezuela)\n",
      "France (United States) -> Consult -> Morocco (Ukraine)\n",
      "Shrien Dewani (France) -> Host a visit -> Russia (NONE)\n",
      "South Africa (South Africa) -> Host a visit -> Militant (Russian Federation)\n",
      "Court Judge (India) -> Consult -> Citizen (Brazil)\n",
      "Bangladesh Communist Party (India) -> Consult -> Citizen (India)\n",
      "Farm Worker (India) -> Make statement -> Bharatiya Janata (India)\n",
      "Mexico (India) -> Bring lawsuit against -> Indonesia (India)\n",
      "Sudan People's Liberation Army (United States) -> Express intent to meet or negotiate -> United States (United Kingdom)\n",
      "Military (Algeria) -> Express intent to meet or negotiate -> United States (Ukraine)\n"
     ]
    }
   ],
   "source": [
    "seed = np.random.randint(0, 20, (5,1))\n",
    "for source_name, source_country, event_text, target_name, target_country in ramble(seed, 10):\n",
    "    print('{} ({}) -> {} -> {} ({})'.format(source_name, source_country, event_text, target_name, target_country))"
   ]
  },
  {
   "cell_type": "code",
   "execution_count": null,
   "metadata": {
    "collapsed": true
   },
   "outputs": [],
   "source": []
  }
 ],
 "metadata": {
  "kernelspec": {
   "display_name": "Python 3",
   "language": "python",
   "name": "python3"
  },
  "language_info": {
   "codemirror_mode": {
    "name": "ipython",
    "version": 3
   },
   "file_extension": ".py",
   "mimetype": "text/x-python",
   "name": "python",
   "nbconvert_exporter": "python",
   "pygments_lexer": "ipython3",
   "version": "3.4.3"
  }
 },
 "nbformat": 4,
 "nbformat_minor": 0
}
