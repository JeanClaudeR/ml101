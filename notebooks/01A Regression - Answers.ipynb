{
 "cells": [
  {
   "cell_type": "code",
   "execution_count": 2,
   "metadata": {
    "collapsed": false
   },
   "outputs": [],
   "source": [
    "%matplotlib inline\n",
    "# Plot everything as SVG\n",
    "%config InlineBackend.figure_formats=['svg']\n",
    "\n",
    "import numpy as np\n",
    "import pandas as pd\n",
    "import seaborn as sns\n",
    "import matplotlib.pyplot as plt\n",
    "\n",
    "# Configure some styling\n",
    "palette = ['#386DF9', '#FFDC52', '#FF1614', '#62F591', '#AA22FF', '#34495E']\n",
    "sns.set(font_scale=1.1, style='darkgrid', palette=palette, context='notebook')\n",
    "\n",
    "# We'll use this later to visualize lines\n",
    "def make_line(m, b, frm=0, to=200):\n",
    "    xs = np.linspace(frm, to, 500)\n",
    "    ys = np.dot(xs[:,np.newaxis], [m]) + b\n",
    "    return xs, ys"
   ]
  },
  {
   "cell_type": "code",
   "execution_count": 3,
   "metadata": {
    "collapsed": false
   },
   "outputs": [
    {
     "data": {
      "text/html": [
       "<div>\n",
       "<table border=\"1\" class=\"dataframe\">\n",
       "  <thead>\n",
       "    <tr style=\"text-align: right;\">\n",
       "      <th></th>\n",
       "      <th>heart_rate</th>\n",
       "      <th>has_criminal_relative</th>\n",
       "      <th>num_facebook_friends</th>\n",
       "      <th>age</th>\n",
       "      <th>income</th>\n",
       "      <th>crime_coef</th>\n",
       "    </tr>\n",
       "  </thead>\n",
       "  <tbody>\n",
       "    <tr>\n",
       "      <th>0</th>\n",
       "      <td>63.525691</td>\n",
       "      <td>0</td>\n",
       "      <td>420</td>\n",
       "      <td>38.728165</td>\n",
       "      <td>10.309871</td>\n",
       "      <td>10.099342</td>\n",
       "    </tr>\n",
       "    <tr>\n",
       "      <th>1</th>\n",
       "      <td>70.875672</td>\n",
       "      <td>0</td>\n",
       "      <td>414</td>\n",
       "      <td>7.168450</td>\n",
       "      <td>15.180091</td>\n",
       "      <td>49.455816</td>\n",
       "    </tr>\n",
       "    <tr>\n",
       "      <th>2</th>\n",
       "      <td>71.480779</td>\n",
       "      <td>0</td>\n",
       "      <td>428</td>\n",
       "      <td>36.510977</td>\n",
       "      <td>16.347410</td>\n",
       "      <td>39.200911</td>\n",
       "    </tr>\n",
       "    <tr>\n",
       "      <th>3</th>\n",
       "      <td>56.346841</td>\n",
       "      <td>0</td>\n",
       "      <td>296</td>\n",
       "      <td>30.695399</td>\n",
       "      <td>11.170218</td>\n",
       "      <td>39.941107</td>\n",
       "    </tr>\n",
       "    <tr>\n",
       "      <th>4</th>\n",
       "      <td>63.238515</td>\n",
       "      <td>0</td>\n",
       "      <td>427</td>\n",
       "      <td>36.192791</td>\n",
       "      <td>10.595675</td>\n",
       "      <td>29.957060</td>\n",
       "    </tr>\n",
       "  </tbody>\n",
       "</table>\n",
       "</div>"
      ],
      "text/plain": [
       "   heart_rate  has_criminal_relative  num_facebook_friends        age  \\\n",
       "0   63.525691                      0                   420  38.728165   \n",
       "1   70.875672                      0                   414   7.168450   \n",
       "2   71.480779                      0                   428  36.510977   \n",
       "3   56.346841                      0                   296  30.695399   \n",
       "4   63.238515                      0                   427  36.192791   \n",
       "\n",
       "      income  crime_coef  \n",
       "0  10.309871   10.099342  \n",
       "1  15.180091   49.455816  \n",
       "2  16.347410   39.200911  \n",
       "3  11.170218   39.941107  \n",
       "4  10.595675   29.957060  "
      ]
     },
     "execution_count": 3,
     "metadata": {},
     "output_type": "execute_result"
    }
   ],
   "source": [
    "reg_data = pd.read_csv('../data/crimecoef.csv')\n",
    "reg_data.head()"
   ]
  },
  {
   "cell_type": "code",
   "execution_count": 7,
   "metadata": {
    "collapsed": false
   },
   "outputs": [
    {
     "data": {
      "text/plain": [
       "64.35212618063116"
      ]
     },
     "execution_count": 7,
     "metadata": {},
     "output_type": "execute_result"
    }
   ],
   "source": [
    "from sklearn.cross_validation import train_test_split\n",
    "from sklearn.linear_model import LinearRegression\n",
    "from sklearn import metrics\n",
    "\n",
    "feats = ['heart_rate', 'num_facebook_friends', 'has_criminal_relative', 'age', 'income']\n",
    "\n",
    "# (set random state for the purposes of demonstration)\n",
    "train, test = train_test_split(reg_data[feats + ['crime_coef']], train_size=0.7, random_state=1000)\n",
    "X_train = train[feats]\n",
    "y_train = train['crime_coef']\n",
    "\n",
    "model = LinearRegression()\n",
    "model.fit(X_train, y_train)\n",
    "\n",
    "# Predict on the testing data\n",
    "X_test = test[feats]\n",
    "y_test = test['crime_coef']\n",
    "y_pred = model.predict(X_test)\n",
    "metrics.mean_squared_error(y_pred, y_test)"
   ]
  },
  {
   "cell_type": "code",
   "execution_count": 13,
   "metadata": {
    "collapsed": false
   },
   "outputs": [
    {
     "name": "stdout",
     "output_type": "stream",
     "text": [
      "heart_rate => 3.01339476788\n",
      "num_facebook_friends => -0.400473709592\n",
      "has_criminal_relative => 120.376591318\n",
      "age => 0.00240924247578\n",
      "income => -0.138654160617\n",
      "b -0.504742894832\n"
     ]
    }
   ],
   "source": [
    "# What value's for m and b did we learn?\n",
    "m = model.coef_\n",
    "b = model.intercept_\n",
    "\n",
    "for f, m in zip(feats, model.coef_):\n",
    "    print(f, '=>', m)\n",
    "print('b', b)"
   ]
  },
  {
   "cell_type": "markdown",
   "metadata": {},
   "source": [
    "You can see that age and income have little predictive power, but the criminal coefficient is heavily biased against those who are related to someone with a criminal record."
   ]
  },
  {
   "cell_type": "code",
   "execution_count": null,
   "metadata": {
    "collapsed": true
   },
   "outputs": [],
   "source": []
  }
 ],
 "metadata": {
  "kernelspec": {
   "display_name": "Python 3",
   "language": "python",
   "name": "python3"
  },
  "language_info": {
   "codemirror_mode": {
    "name": "ipython",
    "version": 3
   },
   "file_extension": ".py",
   "mimetype": "text/x-python",
   "name": "python",
   "nbconvert_exporter": "python",
   "pygments_lexer": "ipython3",
   "version": "3.4.0"
  }
 },
 "nbformat": 4,
 "nbformat_minor": 0
}
