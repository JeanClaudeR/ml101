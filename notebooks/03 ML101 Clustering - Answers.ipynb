{
 "cells": [
  {
   "cell_type": "code",
   "execution_count": 5,
   "metadata": {
    "collapsed": false
   },
   "outputs": [],
   "source": [
    "%matplotlib inline\n",
    "# Plot everything as SVG\n",
    "%config InlineBackend.figure_formats=['svg']\n",
    "\n",
    "import numpy as np\n",
    "import pandas as pd\n",
    "import seaborn as sns\n",
    "import matplotlib.pyplot as plt\n",
    "\n",
    "# Configure some styling\n",
    "palette = ['#386DF9', '#FFDC52', '#FF1614', '#62F591', '#AA22FF', '#34495E']\n",
    "sns.set(font_scale=1.1, style='darkgrid', palette=palette, context='notebook')\n",
    "\n",
    "from sklearn.feature_extraction.text import TfidfVectorizer"
   ]
  },
  {
   "cell_type": "code",
   "execution_count": 6,
   "metadata": {
    "collapsed": false
   },
   "outputs": [
    {
     "data": {
      "text/html": [
       "<div style=\"max-height:1000px;max-width:1500px;overflow:auto;\">\n",
       "<table border=\"1\" class=\"dataframe\">\n",
       "  <thead>\n",
       "    <tr style=\"text-align: right;\">\n",
       "      <th></th>\n",
       "      <th>author</th>\n",
       "      <th>email</th>\n",
       "    </tr>\n",
       "  </thead>\n",
       "  <tbody>\n",
       "    <tr>\n",
       "      <th>0</th>\n",
       "      <td> Sebastian Jaiden</td>\n",
       "      <td> fire threat news derail image derail cover up ...</td>\n",
       "    </tr>\n",
       "    <tr>\n",
       "      <th>1</th>\n",
       "      <td>    Francine Loyd</td>\n",
       "      <td> people people support presentation presentatio...</td>\n",
       "    </tr>\n",
       "    <tr>\n",
       "      <th>2</th>\n",
       "      <td>    Harrison Chip</td>\n",
       "      <td> threat fire scandal undermine undermine danger...</td>\n",
       "    </tr>\n",
       "    <tr>\n",
       "      <th>3</th>\n",
       "      <td> Sebastian Jaiden</td>\n",
       "      <td> press release support public present journalis...</td>\n",
       "    </tr>\n",
       "    <tr>\n",
       "      <th>4</th>\n",
       "      <td>    Harrison Chip</td>\n",
       "      <td> danger image cover up whistleblower whistleblo...</td>\n",
       "    </tr>\n",
       "  </tbody>\n",
       "</table>\n",
       "</div>"
      ],
      "text/plain": [
       "             author                                              email\n",
       "0  Sebastian Jaiden  fire threat news derail image derail cover up ...\n",
       "1     Francine Loyd  people people support presentation presentatio...\n",
       "2     Harrison Chip  threat fire scandal undermine undermine danger...\n",
       "3  Sebastian Jaiden  press release support public present journalis...\n",
       "4     Harrison Chip  danger image cover up whistleblower whistleblo..."
      ]
     },
     "execution_count": 6,
     "metadata": {},
     "output_type": "execute_result"
    }
   ],
   "source": [
    "emails = pd.read_csv('../data/emails.csv')\n",
    "emails.head()"
   ]
  },
  {
   "cell_type": "markdown",
   "metadata": {},
   "source": [
    "We'll pull out just the email text for now and vectorize it using `scikit-learn`'s built-in TFIDF vectorizer."
   ]
  },
  {
   "cell_type": "code",
   "execution_count": 7,
   "metadata": {
    "collapsed": false
   },
   "outputs": [],
   "source": [
    "email_texts = emails['email'].values\n",
    "vectr = TfidfVectorizer()\n",
    "email_vecs = vectr.fit_transform(email_texts)"
   ]
  },
  {
   "cell_type": "markdown",
   "metadata": {},
   "source": [
    "Now that we have our emails represented as vectors, we can run them through a clustering algorithm.\n",
    "\n",
    "There are many clustering algorithms available. A popular one is _k-means_, which is available in `scikit-learn`."
   ]
  },
  {
   "cell_type": "code",
   "execution_count": 8,
   "metadata": {
    "collapsed": false
   },
   "outputs": [
    {
     "data": {
      "text/plain": [
       "array([2, 3, 2, 3, 2, 2, 3, 1, 2, 1], dtype=int32)"
      ]
     },
     "execution_count": 8,
     "metadata": {},
     "output_type": "execute_result"
    }
   ],
   "source": [
    "from sklearn.cluster import KMeans\n",
    "\n",
    "# The k-means algorithm requires that we specify how many clusters we expect\n",
    "model = KMeans(n_clusters=5)\n",
    "\n",
    "# The model returns labels (i.e. cluster id) for each email\n",
    "labels = model.fit_predict(email_vecs)\n",
    "labels[:10]"
   ]
  },
  {
   "cell_type": "markdown",
   "metadata": {},
   "source": [
    "Let's use the labels to group the original emails and see the authors of each email group."
   ]
  },
  {
   "cell_type": "code",
   "execution_count": 9,
   "metadata": {
    "collapsed": false
   },
   "outputs": [
    {
     "name": "stdout",
     "output_type": "stream",
     "text": [
      "Cluster 0\n",
      "['voting campaigning voters behind candidacy finance voters politician fund candidacy campaign polls citizens behind election politics ahead behind points behind pac campaigning fund politician politician politician voters', 'politics vote election behind finance election vote fund candidacy appeal politics politics pac voters voter ahead pac voting finance appeal politics behind election finance finance campaign points behind polls', 'points ahead citizens appeal behind ahead appeal citizens behind voter fund fund citizens election campaign voters campaigning appeal points voting ahead points politics', 'politics pac points fund politician politician citizens fund points campaigning voter finance polls points politician fund politics polls appeal vote campaign voters voter finance citizens voter vote candidacy', 'politics pac candidacy appeal ahead election candidacy candidacy campaign voter polls citizens ahead voting candidacy finance election pac candidacy points politics']\n",
      "---\n",
      "Cluster 1\n",
      "['take out order dinner take out order drinks meal menu order take out cook meal order menu menu order meal lunch meal cook lunch meal take out cook order', 'cook dinner meal meal drinks menu lunch drinks order take out meal drinks menu drinks', 'menu dinner menu drinks take out drinks dinner cook meal menu take out lunch cook cook dinner menu menu drinks order lunch take out drinks menu menu order drinks cook', 'menu cook drinks order dinner order menu order dinner order order dinner take out drinks lunch take out drinks menu dinner dinner drinks take out order cook order lunch', 'take out take out take out drinks menu menu dinner meal lunch lunch lunch menu drinks cook order lunch menu dinner lunch dinner lunch menu drinks order dinner lunch lunch menu take out meal']\n",
      "---\n",
      "Cluster 2\n",
      "['fire threat news derail image derail cover up undermine threat whistleblower image scandal leak embarassment fire image take care of it take care of it scandal whistleblower danger', 'threat fire scandal undermine undermine danger derail take care of it whistleblower danger leak cover up danger threat embarassment danger fire danger take care of it cover up scandal cover up whistleblower danger cover up scandal leak', 'danger image cover up whistleblower whistleblower embarassment embarassment take care of it image appeal cover up threat undermine danger danger undermine image danger news whistleblower journalists appeal', 'scandal derail appeal embarassment appeal appeal undermine fire embarassment cover up journalists journalists news whistleblower news whistleblower scandal leak cover up fire image appeal fire threat', 'scandal journalists undermine take care of it appeal appeal news derail scandal cover up threat appeal image derail']\n",
      "---\n",
      "Cluster 3\n",
      "['people people support presentation presentation present press release people agenda memo talk people people people memo memo present points keynote', 'press release support public present journalists speech image schedule schedule keynote press release press release speech points talk press release people news', 'press release speech presentation people agenda agenda journalists media presentation agenda image journalists', 'memo radio presentation schedule people public journalists public speech appearance memo keynote tv', 'media points tv people people schedule radio appearance image memo people present radio points meeting appearance presentation points people media memo people news tv appearance']\n",
      "---\n",
      "Cluster 4\n",
      "['safety arrest threat convict society arrest criminal menace criminal heart rate police criminals those people', 'threat profile algorithm convict menace profile police data society society crime coefficient those people', 'arrest genetic danger function policy menace policy algorithm society public society public threat crime coefficient those people crime coefficient legal society menace algorithm danger', 'safety function criminals threatening menace algorithm police function policy arrest algorithm profile heart rate legal compute those people', 'crime bias criminality policy policy profile friends public bias crime coefficient policy crime coefficient friends criminals']\n",
      "---\n"
     ]
    }
   ],
   "source": [
    "clusters = [{\n",
    "    'authors': set(), # to avoid duplicates\n",
    "    'emails': []\n",
    "} for i in range(5)]\n",
    "\n",
    "for i, label in enumerate(labels):\n",
    "    email = emails.iloc[i]\n",
    "    clusters[label]['authors'].add(email['author'])\n",
    "    clusters[label]['emails'].append(email['email'])\n",
    "\n",
    "# Print the first 5 emails from each cluster to get a sense of what's in them\n",
    "for i, cluster in enumerate(clusters):\n",
    "    print('Cluster', i)\n",
    "    print(cluster['emails'][:5])\n",
    "    print('---')"
   ]
  },
  {
   "cell_type": "markdown",
   "metadata": {},
   "source": [
    "It looks like cluster 3 is all about the crime coefficients. Now let's look at the authors of those emails."
   ]
  },
  {
   "cell_type": "code",
   "execution_count": 10,
   "metadata": {
    "collapsed": false
   },
   "outputs": [
    {
     "data": {
      "text/plain": [
       "{'Dustin Randell',\n",
       " 'Francine Loyd',\n",
       " 'Harrison Chip',\n",
       " 'Ian Upton',\n",
       " 'Izabelle Rene',\n",
       " 'Reid Kiley',\n",
       " 'Sabine Finnian',\n",
       " 'Sebastian Jaiden',\n",
       " 'Sheba Mate',\n",
       " 'Torkel Whitney'}"
      ]
     },
     "execution_count": 10,
     "metadata": {},
     "output_type": "execute_result"
    }
   ],
   "source": [
    "# set to remove duplicates\n",
    "clusters[3]['authors']"
   ]
  },
  {
   "cell_type": "code",
   "execution_count": null,
   "metadata": {
    "collapsed": true
   },
   "outputs": [],
   "source": []
  }
 ],
 "metadata": {
  "kernelspec": {
   "display_name": "Python 3",
   "language": "python",
   "name": "python3"
  },
  "language_info": {
   "codemirror_mode": {
    "name": "ipython",
    "version": 3
   },
   "file_extension": ".py",
   "mimetype": "text/x-python",
   "name": "python",
   "nbconvert_exporter": "python",
   "pygments_lexer": "ipython3",
   "version": "3.4.3"
  }
 },
 "nbformat": 4,
 "nbformat_minor": 0
}
